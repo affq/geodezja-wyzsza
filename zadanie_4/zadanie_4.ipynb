{
 "cells": [
  {
   "cell_type": "code",
   "execution_count": 83,
   "metadata": {},
   "outputs": [],
   "source": [
    "import math\n",
    "import numpy as np\n",
    "\n",
    "e2 = 0.00669438002290\n",
    "a = 6378137\n",
    "b2 = a**2 * (1 - e2)\n",
    "eprim2 = (a**2 - b2) / b2\n",
    "\n",
    "A0 = 1 - e2/4 - 3*e2**2/64 - 5*e2**3/256\n",
    "A2 = 3/8 * (e2 + e2**2/4 + 15*e2**3/128)\n",
    "A4 = 15/256 * (e2**2 + 3*e2**3/4)\n",
    "A6 = 35*e2**3/3072"
   ]
  },
  {
   "cell_type": "code",
   "execution_count": 125,
   "metadata": {},
   "outputs": [],
   "source": [
    "def to_gk(fi, lam, lam0):\n",
    "    fi = np.deg2rad(fi)\n",
    "    lam = np.deg2rad(lam)\n",
    "    lam0 = np.deg2rad(lam0)\n",
    "    delta_lam = lam - lam0\n",
    "\n",
    "    t = np.tan(fi)\n",
    "    eta2 = eprim2 * np.cos(fi)**2\n",
    "    N = a / np.sqrt(1-e2*np.sin(fi)**2)\n",
    "\n",
    "    sigma = a * (A0 * fi - A2 * np.sin(2 * fi) + A4 * np.sin(4 * fi) - A6 * np.sin(6 * fi))\n",
    "    \n",
    "    xgk = sigma + (((delta_lam**2) / 2) * N * np.sin(fi) * np.cos(fi)) * (1 + ((delta_lam**2) / 12) * np.cos(fi)**2 * (5 - t**2 + 9*eta2 + 4*eta2**2) + ((delta_lam**4) / 360) * np.cos(fi)**4 * (61 - 58*t**2 + t**4 + 270*eta2 - 330*t**2*eta2))\n",
    "\n",
    "    ygk = delta_lam * N * np.cos(fi) * (1 + ((delta_lam**2) / 6) * np.cos(fi)**2 * (1 - t**2 + eta2) + ((delta_lam**4) / 120) * np.cos(fi)**4 * (5 - 18*t**2 + t**4 + 14*eta2 - 58*t**2*eta2))\n",
    "\n",
    "    return xgk, ygk\n",
    "\n",
    "\n",
    "def from_gk(xgk, ygk, lam0):\n",
    "    fi = xgk / (a * A0)\n",
    "    sigma = a * (A0 * fi - A2 * np.sin(2 * fi) + A4 * np.sin(4 * fi) - A6 * np.sin(6 * fi))\n",
    "\n",
    "    while True:\n",
    "        fi1 = fi + (xgk - sigma) / (a * A0)\n",
    "\n",
    "        N = a / math.sqrt(1-e2*np.sin(fi1)**2)\n",
    "        M = a * (1 - e2) / math.sqrt(1-e2*np.sin(fi1)**2)**3\n",
    "        t = math.tan(fi1)\n",
    "        eta2 = eprim2 * np.cos(fi1)**2\n",
    "        sigma = a * (A0 * fi1 - A2 * np.sin(2 * fi1) + A4 * np.sin(4 * fi1) - A6 * np.sin(6 * fi1))\n",
    "\n",
    "        if abs(fi1 - fi) < (0.000001 / 3600):\n",
    "            break\n",
    "\n",
    "        fi = fi1\n",
    "\n",
    "    fi = fi1 - ((ygk**2 * t) / (2 * M * N)) * (1 - ygk**2 / 12 * N**2 * (5 + 3*t**2 + eta2 - 9*t**2*eta2 - 4*eta2**2) + ygk**4 / 360 * N**4 * (61 + 90*t**2 + 45*t**4))\n",
    "\n",
    "    lam = lam0 + (ygk / (N * np.cos(fi))) * (1 - ygk**2 / 6 * N**2 * (1 + 2*t**2 + eta2) + ygk**4 / 120 * N**4 * (5 + 28*t**2 + 24*t**4 + 6*eta2 + 8*t**2*eta2))\n",
    "\n",
    "    return fi, lam\n",
    "\n",
    "def to_2000(fi, lam, lam0):\n",
    "    xgk, ygk = to_gk(fi, lam, lam0)\n",
    "    m0 = 0.999923\n",
    "\n",
    "    nr = 0\n",
    "    \n",
    "    if lam >= np.deg2rad(13.5) and lam < np.deg2rad(16.5):\n",
    "        nr = 5\n",
    "    elif lam >= np.deg2rad(16.5) and lam < np.deg2rad(19.5):\n",
    "        nr = 6\n",
    "    elif lam >= np.deg2rad(19.5) and lam < np.deg2rad(22.5):\n",
    "        nr = 7\n",
    "    elif lam >= np.deg2rad(22.5) and lam < np.deg2rad(25.5):\n",
    "        nr = 8\n",
    "\n",
    "    x2000 = m0 * xgk\n",
    "    y2000 = m0 * ygk + nr * 1000000 + 500000\n",
    "\n",
    "    return x2000, y2000\n",
    "\n",
    "\n",
    "def to_1992(fi, lam, lam0):\n",
    "    xgk, ygk = to_gk(fi, lam, lam0)\n",
    "    m0 = 0.9993\n",
    "\n",
    "    x1992 = m0 * xgk - 5300000\n",
    "    y1992 = m0 * ygk + 500000\n",
    "\n",
    "    return x1992, y1992"
   ]
  },
  {
   "cell_type": "code",
   "execution_count": 126,
   "metadata": {},
   "outputs": [
    {
     "name": "stdout",
     "output_type": "stream",
     "text": [
      "GK:  5652085.723 0.000\n",
      "2000:  5651650.512 500000.000\n",
      "1992:  348129.263 500000.000\n",
      "\n",
      "GK:  5692085.723 0.000\n",
      "2000:  5691647.432 500000.000\n",
      "1992:  388101.263 500000.000\n",
      "\n",
      "GK:  5692085.723 100004.092\n",
      "2000:  5691647.433 599996.392\n",
      "1992:  388101.263 599934.089\n",
      "\n",
      "GK:  5652088.396 100784.906\n",
      "2000:  5651653.185 600777.146\n",
      "1992:  348131.934 600714.357\n",
      "\n"
     ]
    }
   ],
   "source": [
    "points = [[51.0, 19.0], [51.35954501388889, 19.0], [51.350750175, 20.435489580555554], [50.991204616666664, 20.435489580555554]]\n",
    "\n",
    "gk = []\n",
    "pl2000 = []\n",
    "pl1992 = []\n",
    "\n",
    "for point in points:\n",
    "    fi = point[0]\n",
    "    lam = point[1]\n",
    "    lam0 = 19\n",
    "\n",
    "    xgk, ygk = to_gk(fi, lam, lam0)\n",
    "    gk.append([xgk, ygk])\n",
    "    print(\"GK: \", '{0:.3f}'.format(xgk), '{0:.3f}'.format(ygk))\n",
    "\n",
    "    x2000, y2000 = to_2000(fi, lam, lam0)\n",
    "    pl2000.append([x2000, y2000])\n",
    "    print(\"2000: \", '{0:.3f}'.format(x2000), '{0:.3f}'.format(y2000))\n",
    "\n",
    "    x1992, y1992 = to_1992(fi, lam, lam0)\n",
    "    pl1992.append([x1992, y1992])\n",
    "    print(\"1992: \", '{0:.3f}'.format(x1992), '{0:.3f}'.format(y1992))\n",
    "    print(\"\")"
   ]
  },
  {
   "cell_type": "code",
   "execution_count": 127,
   "metadata": {},
   "outputs": [
    {
     "name": "stdout",
     "output_type": "stream",
     "text": [
      "Długości odcinków między punktami na płaszczyźnie PL2000:\n",
      "1-2:  39996.920 m\n",
      "2-3:  99996.392 m\n",
      "3-4:  40001.868 m\n",
      "4-1:  100777.146 m\n",
      "\n",
      "Długości odcinków między punktami na płaszczyźnie G-K:\n",
      "1-2:  40000.000 m\n",
      "2-3:  100004.092 m\n",
      "3-4:  40004.948 m\n",
      "4-1:  100784.906 m\n",
      "\n",
      "Długości odcinków między punktami na płaszczyźnie 1992:\n",
      "1-2:  39972.000 m\n",
      "2-3:  99934.089 m\n",
      "3-4:  39976.945 m\n",
      "4-1:  100714.357 m\n",
      "\n"
     ]
    }
   ],
   "source": [
    "print(\"Długości odcinków między punktami na płaszczyźnie PL2000:\")\n",
    "print(\"1-2: \", '{0:.3f}'.format(math.sqrt((pl2000[0][0] - pl2000[1][0])**2 + (pl2000[0][1] - pl2000[1][1])**2)), \"m\")\n",
    "print(\"2-3: \", '{0:.3f}'.format(math.sqrt((pl2000[1][0] - pl2000[2][0])**2 + (pl2000[1][1] - pl2000[2][1])**2)), \"m\")\n",
    "print(\"3-4: \", '{0:.3f}'.format(math.sqrt((pl2000[2][0] - pl2000[3][0])**2 + (pl2000[2][1] - pl2000[3][1])**2)), \"m\")\n",
    "print(\"4-1: \", '{0:.3f}'.format(math.sqrt((pl2000[3][0] - pl2000[0][0])**2 + (pl2000[3][1] - pl2000[0][1])**2)), \"m\")\n",
    "print(\"\")\n",
    "\n",
    "print(\"Długości odcinków między punktami na płaszczyźnie G-K:\")\n",
    "print(\"1-2: \", '{0:.3f}'.format(math.sqrt((gk[0][0] - gk[1][0])**2 + (gk[0][1] - gk[1][1])**2)), \"m\")\n",
    "print(\"2-3: \", '{0:.3f}'.format(math.sqrt((gk[1][0] - gk[2][0])**2 + (gk[1][1] - gk[2][1])**2)), \"m\")\n",
    "print(\"3-4: \", '{0:.3f}'.format(math.sqrt((gk[2][0] - gk[3][0])**2 + (gk[2][1] - gk[3][1])**2)), \"m\")\n",
    "print(\"4-1: \", '{0:.3f}'.format(math.sqrt((gk[3][0] - gk[0][0])**2 + (gk[3][1] - gk[0][1])**2)), \"m\")\n",
    "print(\"\")\n",
    "\n",
    "print(\"Długości odcinków między punktami na płaszczyźnie 1992:\")\n",
    "print(\"1-2: \", '{0:.3f}'.format(math.sqrt((pl1992[0][0] - pl1992[1][0])**2 + (pl1992[0][1] - pl1992[1][1])**2)), \"m\")\n",
    "print(\"2-3: \", '{0:.3f}'.format(math.sqrt((pl1992[1][0] - pl1992[2][0])**2 + (pl1992[1][1] - pl1992[2][1])**2)), \"m\")\n",
    "print(\"3-4: \", '{0:.3f}'.format(math.sqrt((pl1992[2][0] - pl1992[3][0])**2 + (pl1992[2][1] - pl1992[3][1])**2)), \"m\")\n",
    "print(\"4-1: \", '{0:.3f}'.format(math.sqrt((pl1992[3][0] - pl1992[0][0])**2 + (pl1992[3][1] - pl1992[0][1])**2)), \"m\")\n",
    "print(\"\")"
   ]
  },
  {
   "cell_type": "code",
   "execution_count": 128,
   "metadata": {},
   "outputs": [
    {
     "name": "stdout",
     "output_type": "stream",
     "text": [
      "Redukcje długości:\n",
      "1-2:  0.0\n",
      "2-3:  4.091449658224572\n",
      "3-4:  4.948792122974129\n",
      "4-1:  4.188380959401432\n",
      "\n"
     ]
    }
   ],
   "source": [
    "length_gk = []\n",
    "for i in range(0, len(gk)):\n",
    "    if i == len(gk)-1:\n",
    "        length_gk.append(math.sqrt((gk[i][0] - gk[0][0])**2 + (gk[i][1] - gk[0][1])**2))\n",
    "    else:\n",
    "        length_gk.append(math.sqrt((gk[i][0] - gk[i+1][0])**2 + (gk[i][1] - gk[i+1][1])**2))\n",
    "\n",
    "middle_phis = []\n",
    "middle_ms = []\n",
    "middle_ns = []\n",
    "\n",
    "for i in range(0, len(points)):\n",
    "    if i == len(points)-1:\n",
    "        middle_phis.append((points[i][0] + points[0][0]) / 2)\n",
    "    else:\n",
    "        middle_phis.append((points[i][0] + points[i+1][0]) / 2)\n",
    "\n",
    "middle_phis = np.deg2rad(middle_phis)\n",
    "\n",
    "for phi in middle_phis:\n",
    "    middle_ms.append(a * (1 - e2) / np.sqrt(1-e2*np.sin(phi)**2)**3)\n",
    "    middle_ns.append(a / np.sqrt(1-e2*np.sin(phi)**2))\n",
    "\n",
    "reductions = []\n",
    "for i in range(0, len(points)):\n",
    "    if i == len(points)-1:\n",
    "        rAB = length_gk[i] * (gk[i][1]**2 + gk[i][1]*gk[0][1] + gk[0][1]**2) / (6 * middle_ms[i] * middle_ns[i])\n",
    "    else:\n",
    "        rAB = length_gk[i] * (gk[i][1]**2 + gk[i][1]*gk[i+1][1] + gk[i+1][1]**2) / (6 * middle_ms[i] * middle_ns[i])\n",
    "    reductions.append(rAB)\n",
    "\n",
    "print(\"Redukcje długości:\")\n",
    "print(\"1-2: \", reductions[0])\n",
    "print(\"2-3: \", reductions[1])\n",
    "print(\"3-4: \", reductions[2])\n",
    "print(\"4-1: \", reductions[3])\n",
    "print(\"\")"
   ]
  },
  {
   "cell_type": "code",
   "execution_count": 132,
   "metadata": {},
   "outputs": [
    {
     "name": "stdout",
     "output_type": "stream",
     "text": [
      "Długości odcinków na elipsoidzie:\n",
      "1-2:  40000.000\n",
      "2-3:  100000.000\n",
      "3-4:  39999.999\n",
      "4-1:  100780.718\n",
      "\n"
     ]
    }
   ],
   "source": [
    "lengths = []\n",
    "for i in range(0, len(points)):\n",
    "    if i == len(points)-1:\n",
    "        lengths.append(length_gk[i] - reductions[i])\n",
    "    else:\n",
    "        lengths.append(length_gk[i] - reductions[i])\n",
    "\n",
    "print(\"Długości odcinków na elipsoidzie:\")\n",
    "print(\"1-2: \", lengths[0])\n",
    "print(\"2-3: \", lengths[1])\n",
    "print(\"3-4: \", lengths[2])\n",
    "print(\"4-1: \", lengths[3])\n",
    "print(\"\")"
   ]
  },
  {
   "cell_type": "code",
   "execution_count": 133,
   "metadata": {},
   "outputs": [
    {
     "name": "stdout",
     "output_type": "stream",
     "text": [
      "Pole powierzchni na płaszczyźnie PL-2000:  4015027946.73 m^2\n",
      "Pole powierzchni na płaszczyźnie PL-1992:  4010026395.25 m^2\n"
     ]
    }
   ],
   "source": [
    "#pl2000\n",
    "polepl2000 = (pl2000[1][0] * (pl2000[2][1] - pl2000[0][1]) + pl2000[2][0] * (pl2000[3][1] - pl2000[1][1]) + pl2000[3][0] * (pl2000[0][1] - pl2000[2][1]) + pl2000[0][0] * (pl2000[1][1] - pl2000[3][1])) / 2\n",
    "\n",
    "print(\"Pole powierzchni na płaszczyźnie PL-2000: \", '{0:.2f}'.format(polepl2000), \"m^2\")\n",
    "\n",
    "#pl1992\n",
    "polepl1992 = (pl1992[1][0] * (pl1992[2][1] - pl1992[0][1]) + pl1992[2][0] * (pl1992[3][1] - pl1992[1][1]) + pl1992[3][0] * (pl1992[0][1] - pl1992[2][1]) + pl1992[0][0] * (pl1992[1][1] - pl1992[3][1])) / 2\n",
    "\n",
    "print(\"Pole powierzchni na płaszczyźnie PL-1992: \", '{0:.2f}'.format(polepl1992), \"m^2\")"
   ]
  },
  {
   "cell_type": "code",
   "execution_count": 134,
   "metadata": {},
   "outputs": [
    {
     "name": "stdout",
     "output_type": "stream",
     "text": [
      "Pole powierzchni na płaszczyźnie PL-LAEA:  4015252907.09 m^2\n"
     ]
    }
   ],
   "source": [
    "from pyproj import CRS, Transformer\n",
    "\n",
    "output_proj = CRS.from_epsg(3035)\n",
    "input_proj = CRS.from_epsg(4326)\n",
    "\n",
    "transformer = Transformer.from_crs(input_proj, output_proj)\n",
    "\n",
    "plalea = []\n",
    "for point in points:\n",
    "    plalea.append(transformer.transform(point[0], point[1]))\n",
    "\n",
    "polepllaea = (plalea[1][0] * (plalea[2][1] - plalea[0][1]) + plalea[2][0] * (plalea[3][1] - plalea[1][1]) + plalea[3][0] * (plalea[0][1] - plalea[2][1]) + plalea[0][0] * (plalea[1][1] - plalea[3][1])) / 2\n",
    "\n",
    "print(\"Pole powierzchni na płaszczyźnie PL-LAEA: \", '{0:.2f}'.format(polepllaea), \"m^2\")"
   ]
  }
 ],
 "metadata": {
  "kernelspec": {
   "display_name": ".venv",
   "language": "python",
   "name": "python3"
  },
  "language_info": {
   "codemirror_mode": {
    "name": "ipython",
    "version": 3
   },
   "file_extension": ".py",
   "mimetype": "text/x-python",
   "name": "python",
   "nbconvert_exporter": "python",
   "pygments_lexer": "ipython3",
   "version": "3.9.13"
  }
 },
 "nbformat": 4,
 "nbformat_minor": 2
}
