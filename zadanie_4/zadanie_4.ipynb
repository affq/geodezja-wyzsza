{
 "cells": [
  {
   "cell_type": "code",
   "execution_count": 3,
   "metadata": {},
   "outputs": [],
   "source": [
    "from pyproj import Proj, transform, CRS, Transformer\n",
    "import math\n",
    "\n",
    "# points [phi, lam]\n",
    "points = [50.016666666666666, 18.016666666666666, 51.35954501388889, 19.0, 51.350750175, 20.435489580555554, 50.991204616666664, 20.435489580555554]\n",
    "\n",
    "# Szukane\n",
    "# •xgk,ygk – współrzędne prostokątne lokalne na płaszczyźnie Gaussa-Krügera;\n",
    "\n",
    "def gk (fi, lam, lam0, a = 6378137, e2 = 0.00669438002290):\n",
    "    # 1. parametry elipsoidy\n",
    "    b2 = a**2 * (1 - e2)\n",
    "    eprim2 = (a**2 - b2) / b2\n",
    "\n",
    "\n",
    "    # 2. wielkości pomocnicze\n",
    "    delta_lam = lam - lam0\n",
    "    t = math.tan(fi)\n",
    "    eta2 = eprim2 * math.cos(fi)**2\n",
    "    N = a / math.sqrt(1-e2*math.sin(fi)**2)\n",
    "\n",
    "    # 3. długość łuku południka\n",
    "    A0 = 1 - e2/4 - 3*e2**2/64 - 5*e2**3/256\n",
    "    A2 = 3/8 * (e2 + e2**2/4 + 15*e2**3/128)\n",
    "    A4 = 15/256 * (e2**2 + 3*e2**3/4)\n",
    "    A6 = 35*e2**3/3072\n",
    "\n",
    "    sigma = a * (A0 * fi - A2 * math.sin(2 * fi) + A4 * math.sin(4 * fi) - A6 * math.sin(6 * fi))\n",
    "    \n",
    "    # 4. współrzędne prostokątne lokalne na płaszczyźnie Gaussa-Krügera\n",
    "    xgk = sigma + (delta_lam**2 / 2 * N * math.sin(fi) * math.cos(fi)) * (1 + delta_lam**2 / 12 * math.cos(fi)**2 * (5 - t**2 + 9*eta2 + 4*eta2**2) + delta_lam**4 / 360 * math.cos(fi)**4 * (61 - 58*t**2 + t**4 + 270*eta2 - 330*t**2*eta2))\n",
    "\n",
    "    ygk = delta_lam * N * math.cos(fi) * (1 + delta_lam**2 / 6 * math.cos(fi)**2 * (1 - t**2 + eta2) + delta_lam**4 / 120 * math.cos(fi)**4 * (5 - 18*t**2 + t**4 + 14*eta2 - 58*t**2*eta2 + 13*eta2**2 + 4*eta2**3))\n",
    "\n",
    "    return xgk, ygk\n"
   ]
  }
 ],
 "metadata": {
  "kernelspec": {
   "display_name": ".venv",
   "language": "python",
   "name": "python3"
  },
  "language_info": {
   "codemirror_mode": {
    "name": "ipython",
    "version": 3
   },
   "file_extension": ".py",
   "mimetype": "text/x-python",
   "name": "python",
   "nbconvert_exporter": "python",
   "pygments_lexer": "ipython3",
   "version": "3.9.13"
  }
 },
 "nbformat": 4,
 "nbformat_minor": 2
}
