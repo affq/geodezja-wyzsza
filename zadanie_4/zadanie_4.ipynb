{
 "cells": [
  {
   "cell_type": "markdown",
   "metadata": {},
   "source": [
    "# Zadanie 4 - Odwzorowanie Gaussa-Krügera: układy współrzędnych płaskich stosowanych w Polsce\n",
    "\n",
    "<li>Autor: Adrian Fabisiewicz</li>\n",
    "<li>Numer indeksu: 328935</li>"
   ]
  },
  {
   "cell_type": "markdown",
   "metadata": {},
   "source": [
    "## Cel ćwiczenia\n",
    "Celem ćwiczenia jest obliczenie współrzędnych płaskich w układach PL-1992 oraz PL-2000 czterech punktów, których współrzędne geodezyjne $\\phi$, $\\lambda$ zostały wcześniej wyznaczone na podstawie zadania wprost przeniesienia współrzędnych na elipsoidzie. Należało również wyznaczyć redukcję długości, obliczonych na powierzchni układu PL-2000 oraz PL-1992, na powierzchnię elipsoidy. Na koniec, stosując wzory Gaussa, należało wyznaczyć pole powierzchni czworoboku na płaszczyźnie układów PL-1992 oraz PL-2000. Z wykorzystaniem pythonowej biblioteki <i>pyproj</i> należało przeliczyć współrzędne punktów do układu równopolowego PL-LAEA oraz policzyć pole powierzchni w tym układzie. Mając te dane można było wykonać odpowiednie analizy i porównania i wyciągnąć odpowiednie wnioski."
   ]
  },
  {
   "cell_type": "markdown",
   "metadata": {},
   "source": [
    "## Dane do zadania\n",
    "Dany były współrzędne geodezyjne φ, λ czterech punktów, które zostały wyznaczone w zadaniu wprost przeniesienia współrzędnych na elipsoidzie metodą Kivioji.\n",
    "\n",
    "\n",
    "<table border=\"1\">\n",
    "    <thead>\n",
    "        <tr>\n",
    "            <th>numer punktu</th>\n",
    "            <th>φ</th>\n",
    "            <th>λ</th>\n",
    "        </tr>\n",
    "    </thead>\n",
    "    <tbody>\n",
    "        <tr>\n",
    "            <td>1</td>\n",
    "            <td>51°00′00.00000”</td>\n",
    "            <td>19°00′00.00000”</td>\n",
    "        </tr>\n",
    "        <tr>\n",
    "            <td>2</td>\n",
    "            <td>51°21'34.36205\"</td>\n",
    "            <td>19°00'00.00000\"</td>\n",
    "        </tr>\n",
    "        <tr>\n",
    "            <td>3</td>\n",
    "            <td>51°21'02.70063\"</td>\n",
    "            <td>20°26'07.76249\"</td>\n",
    "        </tr>\n",
    "        <tr>\n",
    "            <td>4</td>\n",
    "            <td>50°59'28.33662\"</td>\n",
    "            <td>20°26'07.76249\"</td>\n",
    "        </tr>\n",
    "    </tbody>\n",
    "</table>"
   ]
  },
  {
   "cell_type": "markdown",
   "metadata": {},
   "source": [
    "## Kolejność wykonywania obliczeń"
   ]
  },
  {
   "cell_type": "markdown",
   "metadata": {},
   "source": [
    "### Zapisanie danych używanych w zadaniu\n",
    "Aby nie zapisywać wielokrotnie tych samych stałych zmiennych, zapisałem je na początku kodu. Są to między innymi takie dane jak: dłuższa i krótsza półoś elipsoidy czy pierwszy i drugi mimośród."
   ]
  },
  {
   "cell_type": "code",
   "execution_count": 664,
   "metadata": {},
   "outputs": [],
   "source": [
    "import math\n",
    "import numpy as np\n",
    "\n",
    "e2 = 0.00669438002290\n",
    "a = 6378137\n",
    "b2 = a**2 * (1 - e2)\n",
    "eprim2 = (a**2 - b2) / b2\n",
    "\n",
    "A0 = 1 - e2/4 - 3*e2**2/64 - 5*e2**3/256\n",
    "A2 = 3/8 * (e2 + e2**2/4 + 15*e2**3/128)\n",
    "A4 = 15/256 * (e2**2 + 3*e2**3/4)\n",
    "A6 = 35*e2**3/3072"
   ]
  },
  {
   "cell_type": "markdown",
   "metadata": {},
   "source": [
    "### Stworzenie funkcji na podstawie algorytmu przeliczenia współrzędnych φ i λ na płaszczyznę odwzorowania Gaussa-Krügera - przeliczenie wprost (x<sub>gk</sub>, y<sub>gk</sub>) = f(φ, λ)\n",
    "Funkcja jako argumenty przyjmuje współrzędne geodezyjne φ i λ oraz λ<sub>0</sub>, czyli odpowiedni południk osiowy układu. Zwraca współrzędne płaskie x<sub>gk</sub> i y<sub>gk</sub> w układzie Gaussa-Krügera."
   ]
  },
  {
   "cell_type": "code",
   "execution_count": 665,
   "metadata": {},
   "outputs": [],
   "source": [
    "def to_gk(fi, lam, lam0):\n",
    "    fi = np.deg2rad(fi)\n",
    "    lam = np.deg2rad(lam)\n",
    "    e2 = 0.0066943800290\n",
    "    a = 6378137\n",
    "\n",
    "    b2 = a ** 2 * (1 - e2)\n",
    "    e2_prim = (a ** 2 - b2) / b2\n",
    "    lam0 = np.deg2rad(lam0)\n",
    "    t = np.tan(fi)\n",
    "    N = a / np.sqrt(1 - e2 * np.sin(fi) ** 2)\n",
    "    eta2 = e2_prim * (np.cos(fi) ** 2)\n",
    "    delta_lam = lam - lam0\n",
    "\n",
    "    A0 = 1 - e2 / 4 - 3 * e2 ** 2 / 64 - 5 * e2 ** 3 / 256\n",
    "    A2 = 3 / 8 * (e2 + e2 ** 2 / 4 + 15 * e2 ** 3 / 128)\n",
    "    A4 = 15 / 256 * (e2 ** 2 + 3 * e2 ** 3 / 4)\n",
    "    A6 = 35 * e2 ** 3 / 3072\n",
    "\n",
    "    sigma = a * (A0 * fi - A2 * np.sin(2 * fi) + A4 * np.sin(4 * fi) - A6 * np.sin(6 * fi))\n",
    "\n",
    "    x = sigma + delta_lam ** 2 / 2 * N * np.sin(fi) * np.cos(fi) * (1 + delta_lam ** 2 / 12 * (np.cos(fi) ** 2) * (5 -\n",
    "        t ** 2 + 9 * eta2 + 4 * eta2 ** 2) + delta_lam ** 4 / 360 * (np.cos(fi) ** 4) * (61 - 58 * t ** 2 + t ** 4 +\n",
    "        270 * eta2 - 330 * eta2 * t ** 2))\n",
    "\n",
    "    y = delta_lam * N * np.cos(fi) * (\n",
    "                1 + delta_lam ** 2 / 6 * np.cos(fi) ** 2 * (1 - t ** 2 + eta2) + delta_lam ** 4 / 120\n",
    "                * np.cos(fi) ** 4 * (5 - 18 * t ** 2 + t ** 4 + 14 * eta2 - 58 * eta2 * t ** 2))\n",
    "    return x, y"
   ]
  },
  {
   "cell_type": "markdown",
   "metadata": {},
   "source": [
    "### Funkcja wykonująca przeliczenie odwrotne: (φ, λ) = f (x<sub>gk</sub>, y<sub>gk</sub>)\n",
    "Funkcja jako argumenty przyjmuje współrzędne płaskie x<sub>gk</sub> i y<sub>gk</sub> oraz λ<sub>0</sub>, czyli odpowiedni południk osiowy układu. Zwraca współrzędne geodezyjne φ i λ."
   ]
  },
  {
   "cell_type": "code",
   "execution_count": 666,
   "metadata": {},
   "outputs": [],
   "source": [
    "def from_gk(xgk, ygk, lam0):\n",
    "    fi = xgk / (a * A0)\n",
    "    sigma = a * (A0 * fi - A2 * np.sin(2 * fi) + A4 * np.sin(4 * fi) - A6 * np.sin(6 * fi))\n",
    "\n",
    "    while True:\n",
    "        fi1 = fi + (xgk - sigma) / (a * A0)\n",
    "\n",
    "        N = a / math.sqrt(1-e2*np.sin(fi1)**2)\n",
    "        M = a * (1 - e2) / math.sqrt(1-e2*np.sin(fi1)**2)**3\n",
    "        t = math.tan(fi1)\n",
    "        eta2 = eprim2 * np.cos(fi1)**2\n",
    "        sigma = a * (A0 * fi1 - A2 * np.sin(2 * fi1) + A4 * np.sin(4 * fi1) - A6 * np.sin(6 * fi1))\n",
    "\n",
    "        if abs(fi1 - fi) < (0.000001 / 3600):\n",
    "            break\n",
    "\n",
    "        fi = fi1\n",
    "\n",
    "    fi = fi1 - ((ygk**2 * t) / (2 * M * N)) * (1 - ygk**2 / 12 * N**2 * (5 + 3*t**2 + eta2 - 9*t**2*eta2 - 4*eta2**2) + ygk**4 / 360 * N**4 * (61 + 90*t**2 + 45*t**4))\n",
    "\n",
    "    lam = lam0 + (ygk / (N * np.cos(fi))) * (1 - ygk**2 / 6 * N**2 * (1 + 2*t**2 + eta2) + ygk**4 / 120 * N**4 * (5 + 28*t**2 + 24*t**4 + 6*eta2 + 8*t**2*eta2))\n",
    "\n",
    "    return fi, lam"
   ]
  },
  {
   "cell_type": "markdown",
   "metadata": {},
   "source": [
    "### Funkcja, obliczająca współrzędne płaskie punktu w układzie PL-2000\n",
    "Funkcja jako argumenty przyjmuje współrzędne geodezyjne φ i λ oraz λ<sub>0</sub>, czyli odpowiedni południk osiowy układu. W środku wywołuje funkcję przeliczającą współrzędne geodezyjne na płaskie w układzie Gaussa-Krügera. Sprawdza, w którym z 4 pasów południkowych układu PL-2000 znajduje się punkt, a następnie oblicza współrzędne płaskie w układzie PL-2000. Zwraca współrzędne płaskie x<sub>2000</sub> i y<sub>2000</sub> w układzie PL-2000."
   ]
  },
  {
   "cell_type": "code",
   "execution_count": 667,
   "metadata": {},
   "outputs": [],
   "source": [
    "def to_2000(fi, lam, lam0):\n",
    "    xgk, ygk = to_gk(fi, lam, lam0)\n",
    "    m0 = 0.999923\n",
    "\n",
    "    nr = 6\n",
    "\n",
    "    x2000 = m0 * xgk\n",
    "    y2000 = m0 * ygk + nr * 1000000 + 500000\n",
    "\n",
    "    return x2000, y2000"
   ]
  },
  {
   "cell_type": "markdown",
   "metadata": {},
   "source": [
    "### Funkcja, obliczająca współrzędne płaskie punktu w układzie PL-1992\n",
    "Funkcja jako argumenty przyjmuje współrzędne geodezyjne φ i λ oraz λ<sub>0</sub>, czyli odpowiedni południk osiowy układu. W środku wywołuje funkcję przeliczającą współrzędne geodezyjne na płaskie w układzie Gaussa-Krügera. Następnie oblicza współrzędne płaskie w układzie PL-1992. Zwraca współrzędne płaskie x<sub>1992</sub> i y<sub>1992</sub> w układzie PL-1992."
   ]
  },
  {
   "cell_type": "code",
   "execution_count": 668,
   "metadata": {},
   "outputs": [],
   "source": [
    "def to_1992(fi, lam, lam0):\n",
    "    xgk, ygk = to_gk(fi, lam, lam0)\n",
    "    m0 = 0.9993\n",
    "\n",
    "    x1992 = m0 * xgk - 5300000\n",
    "    y1992 = m0 * ygk + 500000\n",
    "\n",
    "    return x1992, y1992"
   ]
  },
  {
   "cell_type": "markdown",
   "metadata": {},
   "source": [
    "### Obliczenie współrzędnych punktów w układach PL-1992, PL-2000 oraz Gaussa-Krügera"
   ]
  },
  {
   "cell_type": "code",
   "execution_count": 669,
   "metadata": {},
   "outputs": [
    {
     "name": "stdout",
     "output_type": "stream",
     "text": [
      "Punkt numer 1\n",
      "GK00:  5652561.812 70196.940\n",
      "2000:  5652126.564 6570191.535\n",
      "GK92:  5652085.723 0.000\n",
      "1992:  348129.263 500000.000\n",
      "\n",
      "Punkt numer 2\n",
      "GK00:  5692560.513 69652.977\n",
      "2000:  5692122.186 6569647.614\n",
      "GK92:  5692085.723 0.000\n",
      "1992:  388101.263 500000.000\n",
      "\n",
      "Punkt numer 3\n",
      "GK00:  5693924.194 169662.276\n",
      "2000:  5693485.762 6669649.212\n",
      "GK92:  5692085.723 100004.092\n",
      "1992:  388101.263 599934.089\n",
      "\n",
      "Punkt numer 4\n",
      "GK00:  5653931.898 170987.382\n",
      "2000:  5653496.546 6670974.216\n",
      "GK92:  5652088.396 100784.906\n",
      "1992:  348131.934 600714.357\n",
      "\n"
     ]
    }
   ],
   "source": [
    "points = [[51.0, 19.0], [51.35954501388889, 19.0], [51.350750175, 20.435489580555554], [50.991204616666664, 20.435489580555554]]\n",
    "\n",
    "gk00 = []\n",
    "gk92 = []\n",
    "pl2000 = []\n",
    "pl1992 = []\n",
    "\n",
    "import pandas as pd\n",
    "\n",
    "for point in points:\n",
    "    fi = point[0]\n",
    "    lam = point[1]\n",
    "\n",
    "    print(\"Punkt numer\", points.index(point)+1)\n",
    "    \n",
    "    #gk pl-2000\n",
    "    xgk, ygk = to_gk(fi, lam, 18)\n",
    "    gk00.append([xgk, ygk])\n",
    "    print(\"GK00: \", '{0:.3f}'.format(xgk), '{0:.3f}'.format(ygk))\n",
    "\n",
    "    x2000, y2000 = to_2000(fi, lam, 18)\n",
    "    pl2000.append([x2000, y2000])\n",
    "    print(\"2000: \", '{0:.3f}'.format(x2000), '{0:.3f}'.format(y2000))\n",
    "\n",
    "    #gk pl-1992\n",
    "    xgk92, ygk92 = to_gk(fi, lam, 19)\n",
    "    gk92.append([xgk92, ygk92])\n",
    "    print(\"GK92: \", '{0:.3f}'.format(xgk92), '{0:.3f}'.format(ygk92))\n",
    "\n",
    "\n",
    "    x1992, y1992 = to_1992(fi, lam, 19)\n",
    "    pl1992.append([x1992, y1992])\n",
    "    print(\"1992: \", '{0:.3f}'.format(x1992), '{0:.3f}'.format(y1992))\n",
    "    print(\"\")"
   ]
  },
  {
   "cell_type": "markdown",
   "metadata": {},
   "source": [
    "### Obliczenie długości odcinków między punktami na płaszczyznach układów PL-1992, PL-2000 oraz Gaussa-Krügera"
   ]
  },
  {
   "cell_type": "code",
   "execution_count": 670,
   "metadata": {},
   "outputs": [
    {
     "name": "stdout",
     "output_type": "stream",
     "text": [
      "Długości odcinków między punktami na płaszczyźnie PL2000:\n",
      "[39999.32017877123, 100010.89433113993, 40011.16206806733, 100791.99213772782]\n",
      "\n",
      "Długości odcinków między punktami na płaszczyźnie PL1992:\n",
      "[39971.99990267865, 99934.08906411426, 39976.9448238994, 100714.35675931034]\n",
      "\n"
     ]
    }
   ],
   "source": [
    "def distance(point1, point2):\n",
    "    return math.sqrt((point1[0] - point2[0])**2 + (point1[1] - point2[1])**2)\n",
    "\n",
    "distances_pl2000 = []\n",
    "distances_pl1992 = []\n",
    "\n",
    "for i in range(len(gk00)):\n",
    "    if i == 3:\n",
    "        distances_pl2000.append(distance(pl2000[i], pl2000[0]))\n",
    "        distances_pl1992.append(distance(pl1992[i], pl1992[0]))\n",
    "        break\n",
    "    distances_pl2000.append(distance(pl2000[i], pl2000[i+1]))\n",
    "    distances_pl1992.append(distance(pl1992[i], pl1992[i+1]))\n",
    "\n",
    "print(\"Długości odcinków między punktami na płaszczyźnie PL2000:\")\n",
    "print(distances_pl2000)\n",
    "print('')\n",
    "\n",
    "print(\"Długości odcinków między punktami na płaszczyźnie PL1992:\")\n",
    "print(distances_pl1992)\n",
    "print('')"
   ]
  },
  {
   "cell_type": "markdown",
   "metadata": {},
   "source": [
    "### Obliczenie redukcji długości"
   ]
  },
  {
   "cell_type": "code",
   "execution_count": 671,
   "metadata": {},
   "outputs": [
    {
     "name": "stdout",
     "output_type": "stream",
     "text": [
      "Długości odcinków na płaszczyźnie GK w 1992:\n",
      "[39999.999902610485, 100004.09192846419, 40004.94828770079, 100784.90619364589]\n",
      "\n",
      "Redukcje długości odcinków na płaszczyźnie GK w 1992:\n",
      "[0.0, 4.088585643486725, 4.945327968503748, 4.18544909275307]\n"
     ]
    }
   ],
   "source": [
    "m0_1992 = 0.9993\n",
    "\n",
    "length_gk = []\n",
    "\n",
    "for distance in distances_pl1992:\n",
    "    length_gk.append(distance / m0_1992)\n",
    "\n",
    "print(\"Długości odcinków na płaszczyźnie GK w 1992:\")\n",
    "print(length_gk)\n",
    "print('')\n",
    "\n",
    "middle_phis = []\n",
    "middle_ms = []\n",
    "middle_ns = []\n",
    "\n",
    "for i in range(0, len(points)):\n",
    "    if i == len(points)-1:\n",
    "        middle_phis.append((points[i][0] + points[0][0]) / 2)\n",
    "    else:\n",
    "        middle_phis.append((points[i][0] + points[i+1][0]) / 2)\n",
    "\n",
    "middle_phis = np.deg2rad(middle_phis)\n",
    "\n",
    "for phi in middle_phis:\n",
    "    middle_ms.append(a * (1 - e2) / np.sqrt(1-e2*np.sin(phi)**2)**3)\n",
    "    middle_ns.append(a / np.sqrt(1-e2*np.sin(phi)**2))\n",
    "\n",
    "reductions_1992 = []\n",
    "for i in range(0, len(points)):\n",
    "    if i == len(points)-1:\n",
    "        rAB = distances_pl1992[i] * (gk92[i][1]**2 + gk92[i][1]*gk92[0][1] + gk92[0][1]**2) / (6 * middle_ms[i] * middle_ns[i])\n",
    "    else:\n",
    "        rAB = distances_pl1992[i] * (gk92[i][1]**2 + gk92[i][1]*gk92[i+1][1] + gk92[i+1][1]**2) / (6 * middle_ms[i] * middle_ns[i])\n",
    "    reductions_1992.append(rAB)\n",
    "\n",
    "print(\"Redukcje długości odcinków na płaszczyźnie GK w 1992:\")\n",
    "print(reductions_1992)"
   ]
  },
  {
   "cell_type": "code",
   "execution_count": 672,
   "metadata": {},
   "outputs": [
    {
     "name": "stdout",
     "output_type": "stream",
     "text": [
      "Długości odcinków między punktami na płaszczyźnie GK w 2000:\n",
      "[40002.40036359923, 100018.59576301368, 40014.24316479102, 100799.75371876417]\n",
      "\n",
      "Redukcje długości odcinków na płaszczyźnie GK w 2000:\n",
      "[2.4003901628749897, 18.597144287750762, 14.246321969578071, 19.037862486166055]\n"
     ]
    }
   ],
   "source": [
    "m0_2000 = 0.999923\n",
    "\n",
    "length_gk = []\n",
    "\n",
    "for distance in distances_pl2000:\n",
    "    length_gk.append(distance / m0_2000)\n",
    "\n",
    "print(\"Długości odcinków między punktami na płaszczyźnie GK w 2000:\")\n",
    "print(length_gk)\n",
    "print('')\n",
    "\n",
    "middle_phis = []\n",
    "middle_ms = []\n",
    "middle_ns = []\n",
    "\n",
    "for i in range(0, len(points)):\n",
    "    if i == len(points)-1:\n",
    "        middle_phis.append((points[i][0] + points[0][0]) / 2)\n",
    "    else:\n",
    "        middle_phis.append((points[i][0] + points[i+1][0]) / 2)\n",
    "\n",
    "middle_phis = np.deg2rad(middle_phis)\n",
    "\n",
    "for phi in middle_phis:\n",
    "    middle_ms.append(a * (1 - e2) / np.sqrt(1-e2*np.sin(phi)**2)**3)\n",
    "    middle_ns.append(a / np.sqrt(1-e2*np.sin(phi)**2))\n",
    "\n",
    "reductions_2000 = []\n",
    "for i in range(0, len(points)):\n",
    "    if i == len(points)-1:\n",
    "        rAB = distances_pl2000[i] * (gk00[i][1]**2 + gk00[i][1]*gk00[0][1] + gk00[0][1]**2) / (6 * middle_ms[i] * middle_ns[i])\n",
    "    else:\n",
    "        rAB = distances_pl2000[i] * (gk00[i][1]**2 + gk00[i][1]*gk00[i+1][1] + gk00[i+1][1]**2) / (6 * middle_ms[i] * middle_ns[i])\n",
    "    reductions_2000.append(rAB)\n",
    "\n",
    "print(\"Redukcje długości odcinków na płaszczyźnie GK w 2000:\")\n",
    "print(reductions_2000)"
   ]
  },
  {
   "cell_type": "markdown",
   "metadata": {},
   "source": [
    "### Obliczenie długości odcinków między punktami na powierzchni elipsoidy"
   ]
  },
  {
   "cell_type": "code",
   "execution_count": 673,
   "metadata": {},
   "outputs": [
    {
     "name": "stdout",
     "output_type": "stream",
     "text": [
      "Długości odcinków na elipsoidzie w PL-1992:\n",
      "[40002.40036359923, 100014.5071773702, 40009.297836822516, 100795.56826967142]\n"
     ]
    }
   ],
   "source": [
    "length_1992 = []\n",
    "for i in range(0, len(points)):\n",
    "    length_1992.append(length_gk[i] - reductions_1992[i])\n",
    "\n",
    "print(\"Długości odcinków na elipsoidzie w PL-1992:\")\n",
    "print(length_1992)"
   ]
  },
  {
   "cell_type": "code",
   "execution_count": 674,
   "metadata": {},
   "outputs": [
    {
     "name": "stdout",
     "output_type": "stream",
     "text": [
      "Długości odcinków na elipsoidzie w PL-2000:\n",
      "[39999.99997343635, 99999.99861872593, 39999.99684282144, 100780.71585627801]\n"
     ]
    }
   ],
   "source": [
    "length_2000 = []\n",
    "for i in range(0, len(points)):\n",
    "    length_2000.append(length_gk[i] - reductions_2000[i])\n",
    "\n",
    "print(\"Długości odcinków na elipsoidzie w PL-2000:\")\n",
    "print(length_2000)"
   ]
  },
  {
   "cell_type": "markdown",
   "metadata": {},
   "source": [
    "### Obliczenie pól powierzchni czworoboku na płaszczyźnie układów PL-1992 oraz PL-2000"
   ]
  },
  {
   "cell_type": "code",
   "execution_count": 675,
   "metadata": {},
   "outputs": [
    {
     "name": "stdout",
     "output_type": "stream",
     "text": [
      "Pole powierzchni na płaszczyźnie PL-2000:  4016201746.26 m², czyli  4016.20 km²\n",
      "Pole powierzchni na płaszczyźnie PL-1992:  4010026395.26 m², czyli  4010.03 km²\n"
     ]
    }
   ],
   "source": [
    "polepl2000 = (pl2000[1][0] * (pl2000[2][1] - pl2000[0][1]) + pl2000[2][0] * (pl2000[3][1] - pl2000[1][1]) + pl2000[3][0] * (pl2000[0][1] - pl2000[2][1]) + pl2000[0][0] * (pl2000[1][1] - pl2000[3][1])) / 2\n",
    "print(\"Pole powierzchni na płaszczyźnie PL-2000: \", '{0:.2f}'.format(polepl2000), \"m², czyli \", '{0:.2f}'.format(polepl2000/1000000), \"km²\")\n",
    "\n",
    "polepl1992 = (pl1992[1][0] * (pl1992[2][1] - pl1992[0][1]) + pl1992[2][0] * (pl1992[3][1] - pl1992[1][1]) + pl1992[3][0] * (pl1992[0][1] - pl1992[2][1]) + pl1992[0][0] * (pl1992[1][1] - pl1992[3][1])) / 2\n",
    "print(\"Pole powierzchni na płaszczyźnie PL-1992: \", '{0:.2f}'.format(polepl1992), \"m², czyli \", '{0:.2f}'.format(polepl1992/1000000), \"km²\")"
   ]
  },
  {
   "cell_type": "markdown",
   "metadata": {},
   "source": [
    "### Transformacja współrzędnych punktów do układu PL-LAEA z wykorzystaniem biblioteki pyproj oraz obliczenie pola powierzchni czworoboku na płaszczyźnie układu PL-LAEA"
   ]
  },
  {
   "cell_type": "code",
   "execution_count": 676,
   "metadata": {},
   "outputs": [
    {
     "name": "stdout",
     "output_type": "stream",
     "text": [
      "Pole powierzchni na płaszczyźnie PL-LAEA:  4015252907.09 m², czyli  4015.25 km²\n"
     ]
    }
   ],
   "source": [
    "from pyproj import CRS, Transformer\n",
    "\n",
    "output_proj = CRS.from_epsg(3035)\n",
    "input_proj = CRS.from_epsg(4326)\n",
    "\n",
    "transformer = Transformer.from_crs(input_proj, output_proj)\n",
    "\n",
    "plalea = []\n",
    "for point in points:\n",
    "    plalea.append(transformer.transform(point[0], point[1]))\n",
    "\n",
    "polepllaea = (plalea[1][0] * (plalea[2][1] - plalea[0][1]) + plalea[2][0] * (plalea[3][1] - plalea[1][1]) + plalea[3][0] * (plalea[0][1] - plalea[2][1]) + plalea[0][0] * (plalea[1][1] - plalea[3][1])) / 2\n",
    "\n",
    "print(\"Pole powierzchni na płaszczyźnie PL-LAEA: \", '{0:.2f}'.format(polepllaea), \"m², czyli \", '{0:.2f}'.format(polepllaea/1000000), \"km²\")"
   ]
  },
  {
   "cell_type": "markdown",
   "metadata": {},
   "source": [
    "### Zestawienie wyników"
   ]
  },
  {
   "cell_type": "markdown",
   "metadata": {},
   "source": [
    "#### Tabela przedstawiająca współrzędne geodezyjne punktów oraz obliczone współrzędne układach PL-1992, PL-2000 oraz Gaussa-Krügera"
   ]
  },
  {
   "cell_type": "code",
   "execution_count": 677,
   "metadata": {},
   "outputs": [
    {
     "data": {
      "text/html": [
       "<div>\n",
       "<style scoped>\n",
       "    .dataframe tbody tr th:only-of-type {\n",
       "        vertical-align: middle;\n",
       "    }\n",
       "\n",
       "    .dataframe tbody tr th {\n",
       "        vertical-align: top;\n",
       "    }\n",
       "\n",
       "    .dataframe thead th {\n",
       "        text-align: right;\n",
       "    }\n",
       "</style>\n",
       "<table border=\"1\" class=\"dataframe\">\n",
       "  <thead>\n",
       "    <tr style=\"text-align: right;\">\n",
       "      <th></th>\n",
       "      <th>Punkt</th>\n",
       "      <th>φ[°]</th>\n",
       "      <th>λ[°]</th>\n",
       "      <th>Xgk</th>\n",
       "      <th>Ygk</th>\n",
       "      <th>X2000</th>\n",
       "      <th>Y2000</th>\n",
       "      <th>X1992</th>\n",
       "      <th>Y1992</th>\n",
       "    </tr>\n",
       "  </thead>\n",
       "  <tbody>\n",
       "    <tr>\n",
       "      <th>1</th>\n",
       "      <td>1</td>\n",
       "      <td>51.000</td>\n",
       "      <td>19.000</td>\n",
       "      <td>5652561.812</td>\n",
       "      <td>70196.940</td>\n",
       "      <td>5652126.564</td>\n",
       "      <td>6570191.535</td>\n",
       "      <td>348129.263</td>\n",
       "      <td>500000.000</td>\n",
       "    </tr>\n",
       "    <tr>\n",
       "      <th>2</th>\n",
       "      <td>2</td>\n",
       "      <td>51.360</td>\n",
       "      <td>19.000</td>\n",
       "      <td>5692560.513</td>\n",
       "      <td>69652.977</td>\n",
       "      <td>5692122.186</td>\n",
       "      <td>6569647.614</td>\n",
       "      <td>388101.263</td>\n",
       "      <td>500000.000</td>\n",
       "    </tr>\n",
       "    <tr>\n",
       "      <th>3</th>\n",
       "      <td>3</td>\n",
       "      <td>51.351</td>\n",
       "      <td>20.435</td>\n",
       "      <td>5693924.194</td>\n",
       "      <td>169662.276</td>\n",
       "      <td>5693485.762</td>\n",
       "      <td>6669649.212</td>\n",
       "      <td>388101.263</td>\n",
       "      <td>599934.089</td>\n",
       "    </tr>\n",
       "    <tr>\n",
       "      <th>4</th>\n",
       "      <td>4</td>\n",
       "      <td>50.991</td>\n",
       "      <td>20.435</td>\n",
       "      <td>5653931.898</td>\n",
       "      <td>170987.382</td>\n",
       "      <td>5653496.546</td>\n",
       "      <td>6670974.216</td>\n",
       "      <td>348131.934</td>\n",
       "      <td>600714.357</td>\n",
       "    </tr>\n",
       "  </tbody>\n",
       "</table>\n",
       "</div>"
      ],
      "text/plain": [
       "   Punkt   φ[°]   λ[°]         Xgk        Ygk       X2000       Y2000  \\\n",
       "1      1 51.000 19.000 5652561.812  70196.940 5652126.564 6570191.535   \n",
       "2      2 51.360 19.000 5692560.513  69652.977 5692122.186 6569647.614   \n",
       "3      3 51.351 20.435 5693924.194 169662.276 5693485.762 6669649.212   \n",
       "4      4 50.991 20.435 5653931.898 170987.382 5653496.546 6670974.216   \n",
       "\n",
       "       X1992      Y1992  \n",
       "1 348129.263 500000.000  \n",
       "2 388101.263 500000.000  \n",
       "3 388101.263 599934.089  \n",
       "4 348131.934 600714.357  "
      ]
     },
     "execution_count": 677,
     "metadata": {},
     "output_type": "execute_result"
    }
   ],
   "source": [
    "wf = pd.DataFrame([1, 2, 3, 4], columns=['Punkt'])\n",
    "wf['φ[°]'] = pd.Series([x[0] for x in points])\n",
    "wf['λ[°]'] = pd.Series([x[1] for x in points])\n",
    "wf['Xgk'] = pd.Series([x[0] for x in gk00])\n",
    "wf['Ygk'] = pd.Series([x[1] for x in gk00])\n",
    "wf['X2000'] = pd.Series([x[0] for x in pl2000])\n",
    "wf['Y2000'] = pd.Series([x[1] for x in pl2000])\n",
    "wf['X1992'] = pd.Series([x[0] for x in pl1992])\n",
    "wf['Y1992'] = pd.Series([x[1] for x in pl1992])\n",
    "wf.index = wf.index + 1 \n",
    "pd.set_option(\"display.float_format\", lambda x: \"%.3f\" % x)\n",
    "wf"
   ]
  },
  {
   "cell_type": "markdown",
   "metadata": {},
   "source": [
    "#### Tabela przedstawiająca długość odcinków na elipsoidzie po wykonaniu redukcji długości"
   ]
  },
  {
   "cell_type": "code",
   "execution_count": 678,
   "metadata": {},
   "outputs": [
    {
     "data": {
      "text/html": [
       "<div>\n",
       "<style scoped>\n",
       "    .dataframe tbody tr th:only-of-type {\n",
       "        vertical-align: middle;\n",
       "    }\n",
       "\n",
       "    .dataframe tbody tr th {\n",
       "        vertical-align: top;\n",
       "    }\n",
       "\n",
       "    .dataframe thead th {\n",
       "        text-align: right;\n",
       "    }\n",
       "</style>\n",
       "<table border=\"1\" class=\"dataframe\">\n",
       "  <thead>\n",
       "    <tr style=\"text-align: right;\">\n",
       "      <th></th>\n",
       "      <th>Odcinek</th>\n",
       "      <th>Długość linii geodezyjnej[m]</th>\n",
       "      <th>Długość odcinka na elipsoidzie w 1992[m]</th>\n",
       "      <th>Długość odcinka na elipsoidzie w 2000[m]</th>\n",
       "    </tr>\n",
       "  </thead>\n",
       "  <tbody>\n",
       "    <tr>\n",
       "      <th>0</th>\n",
       "      <td>1-2</td>\n",
       "      <td>40000.00000</td>\n",
       "      <td>40002.40036</td>\n",
       "      <td>39999.99997</td>\n",
       "    </tr>\n",
       "    <tr>\n",
       "      <th>1</th>\n",
       "      <td>2-3</td>\n",
       "      <td>100000.00000</td>\n",
       "      <td>100014.50718</td>\n",
       "      <td>99999.99862</td>\n",
       "    </tr>\n",
       "    <tr>\n",
       "      <th>2</th>\n",
       "      <td>3-4</td>\n",
       "      <td>40000.00000</td>\n",
       "      <td>40009.29784</td>\n",
       "      <td>39999.99684</td>\n",
       "    </tr>\n",
       "    <tr>\n",
       "      <th>3</th>\n",
       "      <td>4-1</td>\n",
       "      <td>100000.00000</td>\n",
       "      <td>100795.56827</td>\n",
       "      <td>100780.71586</td>\n",
       "    </tr>\n",
       "  </tbody>\n",
       "</table>\n",
       "</div>"
      ],
      "text/plain": [
       "  Odcinek  Długość linii geodezyjnej[m]  \\\n",
       "0     1-2                   40000.00000   \n",
       "1     2-3                  100000.00000   \n",
       "2     3-4                   40000.00000   \n",
       "3     4-1                  100000.00000   \n",
       "\n",
       "   Długość odcinka na elipsoidzie w 1992[m]  \\\n",
       "0                               40002.40036   \n",
       "1                              100014.50718   \n",
       "2                               40009.29784   \n",
       "3                              100795.56827   \n",
       "\n",
       "   Długość odcinka na elipsoidzie w 2000[m]  \n",
       "0                               39999.99997  \n",
       "1                               99999.99862  \n",
       "2                               39999.99684  \n",
       "3                              100780.71586  "
      ]
     },
     "execution_count": 678,
     "metadata": {},
     "output_type": "execute_result"
    }
   ],
   "source": [
    "c = [40000.000, 100000.000, 40000.000, 100000.000]\n",
    "dene = pd.DataFrame(['1-2', '2-3', '3-4', '4-1'], columns=['Odcinek'])\n",
    "dene['Długość linii geodezyjnej[m]'] = pd.Series(x for x in c)\n",
    "dene['Długość odcinka na elipsoidzie w 1992[m]'] = pd.Series(length_1992)\n",
    "dene['Długość odcinka na elipsoidzie w 2000[m]'] = pd.Series(length_2000)\n",
    "pd.set_option(\"display.float_format\", lambda x: \"%.5f\" % x)\n",
    "dene"
   ]
  },
  {
   "cell_type": "markdown",
   "metadata": {},
   "source": [
    "#### Zestawienie różnic długości odcinków"
   ]
  },
  {
   "cell_type": "code",
   "execution_count": 679,
   "metadata": {},
   "outputs": [
    {
     "data": {
      "text/html": [
       "<div>\n",
       "<style scoped>\n",
       "    .dataframe tbody tr th:only-of-type {\n",
       "        vertical-align: middle;\n",
       "    }\n",
       "\n",
       "    .dataframe tbody tr th {\n",
       "        vertical-align: top;\n",
       "    }\n",
       "\n",
       "    .dataframe thead th {\n",
       "        text-align: right;\n",
       "    }\n",
       "</style>\n",
       "<table border=\"1\" class=\"dataframe\">\n",
       "  <thead>\n",
       "    <tr style=\"text-align: right;\">\n",
       "      <th></th>\n",
       "      <th>Odcinek</th>\n",
       "      <th>Długość linii geodezyjnej[m]</th>\n",
       "      <th>Długość odcinka na elipsoidzie w 1992[m]</th>\n",
       "      <th>Długość odcinka na elipsoidzie w 2000[m]</th>\n",
       "      <th>Różnica długości linii geodezyjnej i odcinka na elipsoidzie w 1992 [m]</th>\n",
       "      <th>Różnica długości linii geodezyjnej i odcinka na elipsoidzie w 2000 [m]</th>\n",
       "    </tr>\n",
       "  </thead>\n",
       "  <tbody>\n",
       "    <tr>\n",
       "      <th>0</th>\n",
       "      <td>1-2</td>\n",
       "      <td>40000.00000</td>\n",
       "      <td>40002.40036</td>\n",
       "      <td>39999.99997</td>\n",
       "      <td>2.40036</td>\n",
       "      <td>-0.00003</td>\n",
       "    </tr>\n",
       "    <tr>\n",
       "      <th>1</th>\n",
       "      <td>2-3</td>\n",
       "      <td>100000.00000</td>\n",
       "      <td>100014.50718</td>\n",
       "      <td>99999.99862</td>\n",
       "      <td>14.50718</td>\n",
       "      <td>-0.00138</td>\n",
       "    </tr>\n",
       "    <tr>\n",
       "      <th>2</th>\n",
       "      <td>3-4</td>\n",
       "      <td>40000.00000</td>\n",
       "      <td>40009.29784</td>\n",
       "      <td>39999.99684</td>\n",
       "      <td>9.29784</td>\n",
       "      <td>-0.00316</td>\n",
       "    </tr>\n",
       "    <tr>\n",
       "      <th>3</th>\n",
       "      <td>4-1</td>\n",
       "      <td>100000.00000</td>\n",
       "      <td>100795.56827</td>\n",
       "      <td>100780.71586</td>\n",
       "      <td>795.56827</td>\n",
       "      <td>780.71586</td>\n",
       "    </tr>\n",
       "  </tbody>\n",
       "</table>\n",
       "</div>"
      ],
      "text/plain": [
       "  Odcinek  Długość linii geodezyjnej[m]  \\\n",
       "0     1-2                   40000.00000   \n",
       "1     2-3                  100000.00000   \n",
       "2     3-4                   40000.00000   \n",
       "3     4-1                  100000.00000   \n",
       "\n",
       "   Długość odcinka na elipsoidzie w 1992[m]  \\\n",
       "0                               40002.40036   \n",
       "1                              100014.50718   \n",
       "2                               40009.29784   \n",
       "3                              100795.56827   \n",
       "\n",
       "   Długość odcinka na elipsoidzie w 2000[m]  \\\n",
       "0                               39999.99997   \n",
       "1                               99999.99862   \n",
       "2                               39999.99684   \n",
       "3                              100780.71586   \n",
       "\n",
       "   Różnica długości linii geodezyjnej i odcinka na elipsoidzie w 1992 [m]  \\\n",
       "0                                            2.40036                        \n",
       "1                                           14.50718                        \n",
       "2                                            9.29784                        \n",
       "3                                          795.56827                        \n",
       "\n",
       "   Różnica długości linii geodezyjnej i odcinka na elipsoidzie w 2000 [m]  \n",
       "0                                           -0.00003                       \n",
       "1                                           -0.00138                       \n",
       "2                                           -0.00316                       \n",
       "3                                          780.71586                       "
      ]
     },
     "execution_count": 679,
     "metadata": {},
     "output_type": "execute_result"
    }
   ],
   "source": [
    "roznice_1992 = []\n",
    "for i in range(0, len(points)):\n",
    "    roznice_1992.append(length_1992[i] - c[i])\n",
    "\n",
    "roznice_2000 = []\n",
    "for i in range(0, len(points)):\n",
    "    roznice_2000.append(length_2000[i] - c[i])\n",
    "\n",
    "dene['Różnica długości linii geodezyjnej i odcinka na elipsoidzie w 1992 [m]'] = pd.Series(roznice_1992)\n",
    "dene['Różnica długości linii geodezyjnej i odcinka na elipsoidzie w 2000 [m]'] = pd.Series(roznice_2000)\n",
    "dene"
   ]
  },
  {
   "cell_type": "markdown",
   "metadata": {},
   "source": [
    "#### Zestawienie pól powierzchni czworoboku w układach PL-2000, PL-1992, PL-LAEA oraz na powierzchni elipsoidy"
   ]
  },
  {
   "cell_type": "code",
   "execution_count": 681,
   "metadata": {},
   "outputs": [],
   "source": [
    "pola = pd.DataFrame([polepl2000, polepl1992, polepllaea], columns=['Pole [km²]'])\n",
    "pola['Układ'] = ['PL-2000', 'PL-1992', 'PL-LAEA']\n",
    "pola['Pole [km²]'] = pola['Pole [km²]'] / 1000000\n",
    "pola.loc[4] = [4113.295698406223, 'Elipsoida']\n",
    "pd.set_option(\"display.float_format\", lambda x: \"%.3f\" % x)\n",
    "pola"
   ]
  },
  {
   "cell_type": "markdown",
   "metadata": {},
   "source": [
    "### Analizy i wnioski\n",
    "* Obydwa układy - PL-1992 i PL-2000 są oparte na tym samym układzie Gaussa-Krügera. Współrzędne liczy się w podobny sposób.\n",
    "* W przypadku układu PL-1992 cały obszar Polski jest objęty jednym pasem południkowym. Południkiem osiowym jest południk 19° szerokości geograficznej wschodniej. W układzie PL-2000 obszar Polski podzielony jest na 4 pasy południkowe, o szerokości 3° każdy (południki osiowe 15°, 18°, 21°, 24°). A więc występuje tu różnica w wyborze odpowiedniego południka.\n",
    "* W moim przypadku pierwszy i drugi punkt miał długość geograficzną 19°E, a więc znajdował się na południku osiowym układu PL-1992. W układzie PL-2000 pierwszy punkt znajdował się najbliżej południka osiowego 18°E.\n",
    "* Długości odcinków w układzie PL-1992 są większe niż w układzie PL-2000.\n",
    "* Zniekształcenia w układzie PL-2000 są mniejsze niż w układzie PL-1992.\n",
    "* Odcinek 1-2, mimo tego, że leży na południku osiowym układu PL-1992 ma w tym układzie długość bardziej oddaloną od długości 1-2 z ćwiczenia nr 3 niż w układzie PL-2000. A więc zniekształcenia nie rosną wraz z oddalaniem się od południka osiowego układu.\n",
    "* Pole powierzchni czworoboku jest podobne w układach PL-2000 i PL-LAEA. W przypadku PL-1992 wynosi kilka kilometrów kwadratowych mniej. Pole powierzchni na elipsoidzie jest dużo większe - różnica wynosi średnio około sto kilometrów kwadratowych."
   ]
  }
 ],
 "metadata": {
  "kernelspec": {
   "display_name": ".venv",
   "language": "python",
   "name": "python3"
  },
  "language_info": {
   "codemirror_mode": {
    "name": "ipython",
    "version": 3
   },
   "file_extension": ".py",
   "mimetype": "text/x-python",
   "name": "python",
   "nbconvert_exporter": "python",
   "pygments_lexer": "ipython3",
   "version": "3.9.13"
  }
 },
 "nbformat": 4,
 "nbformat_minor": 2
}
