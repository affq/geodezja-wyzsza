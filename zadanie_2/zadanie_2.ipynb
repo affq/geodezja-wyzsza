{
 "cells": [
  {
   "cell_type": "markdown",
   "metadata": {},
   "source": [
    "# Zadanie 2\n",
    "\n",
    "<p>Autor: Adrian Fabisiewicz</p>\n",
    "<p>Numer indeksu: 328935</p>\n",
    "<p>Numer lotu: 4</p>"
   ]
  },
  {
   "cell_type": "markdown",
   "metadata": {},
   "source": [
    "## Cel ćwiczenia\n",
    "Celem ćwiczenia jest transformacja współrzędnych elipsoidalnych lecącego samolotu do układu\n",
    "lokalnego. Współrzędne te należało przeliczyć najpierw do geocentrycznych współrzędnych ortokartezjańskich, a ostatecznie do układu współrzędnych horyzontalnych, względem znanego położenia lotniska. W zadaniu należało również wyznaczyć moment, w którym samolot zniknie poniżej horyzontu. Po wykonaniu obliczeń należało wykonać odpowiednie wizualizacje, przedstawiające trasę samolotu oraz inne, wybrane dane."
   ]
  },
  {
   "cell_type": "markdown",
   "metadata": {},
   "source": [
    "## Dane do zadania\n",
    "W zadaniu wykorzystane zostały dane wybranego lotu, zawarte w pliku csv i pobrane z portalu <a href=\"https://www.flightradar24.com/\">flightradar24.com</a>. Plik zawierał między innymi takie dane, jak: szerokość geograficzna φ, długość geograficzna λ, a także wysokość <i>h</i> samolotu w odniesieniu do poziomu jednego z lotnisk w danej jednostce czasu. Pierwszy rekord pliku z danymi pozwolił odnaleźć współrzędne rozpatrywanego lotniska."
   ]
  },
  {
   "cell_type": "markdown",
   "metadata": {},
   "source": [
    "## Kolejność wykonywania obliczeń"
   ]
  },
  {
   "cell_type": "markdown",
   "metadata": {},
   "source": [
    "### Wczytanie pliku\n",
    "Pierwszym krokiem było wczytanie pliku <i>lot4.csv</i>, w którym znajdowały się dane analizowanego przeze mnie lotu. Pozwoliła to zrobić dostarczona wraz z instrukcją do zadania funkcja <i>read_flightradar</i>, przyjmująca jako argument plik w formacie csv, a zwracająca kolumny z uporządkowanymi danymi."
   ]
  },
  {
   "cell_type": "code",
   "execution_count": null,
   "metadata": {},
   "outputs": [],
   "source": [
    "import numpy as np\n",
    "\n",
    "def read_flightradar(file):\n",
    "    '''\n",
    "    Parameters\n",
    "    ----------\n",
    "    file : .csv file - format as downloaded from fligthradar24\n",
    "        DESCRIPTION.\n",
    "    Returns\n",
    "    -------\n",
    "    all_data : numpy array\n",
    "        columns are:\n",
    "            0 - Timestamp - ?\n",
    "            1 - year\n",
    "            2 - month\n",
    "            3 - day\n",
    "            4 - hour\n",
    "            5 - minute\n",
    "            6 - second\n",
    "            7 - Latitude [degrees]\n",
    "            8 - Longitude [degrees]\n",
    "            9 - Altitude [feet]\n",
    "            10 - Speed [?]\n",
    "            11 - Direction [?]\n",
    "    '''\n",
    "    with open(file, 'r') as f:\n",
    "        i = 0\n",
    "        size= []\n",
    "        Timestamp = []; date = []; UTC = []; Latitude = []; Longitude = []; \n",
    "        Altitude = []; Speed = []; Direction = []; datetime_date = []\n",
    "        for linia in f:\n",
    "            if linia[0:1]!='T':\n",
    "                splited_line = linia.split(',')\n",
    "                size.append(len(splited_line))\n",
    "                i+=1\n",
    "                Timestamp.append(int(splited_line[0]))\n",
    "                full_date = splited_line[1].split('T')\n",
    "                date.append(list(map(int,full_date[0].split('-'))))\n",
    "                UTC.append(list(map(int, full_date[1].split('Z')[0].split(':'))))\n",
    "                Callsign = splited_line[2]\n",
    "                Latitude.append(float(splited_line[3].split('\"')[1]))\n",
    "                Longitude.append(float(splited_line[4].split('\"')[0]))\n",
    "                Altitude.append(float(splited_line[5]))\n",
    "                Speed.append(float(splited_line[6]))\n",
    "                Direction.append(float(splited_line[7]))\n",
    "                \n",
    "    all_data = np.column_stack((np.array(Timestamp), np.array(date), np.array(UTC),\n",
    "                                np.array(Latitude), np.array(Longitude), np.array(Altitude),\n",
    "                                np.array(Speed), np.array(Direction)))\n",
    "    return all_data"
   ]
  },
  {
   "cell_type": "code",
   "execution_count": null,
   "metadata": {},
   "outputs": [],
   "source": [
    "file = 'lot4.csv'\n",
    "dane = read_flightradar(file)"
   ]
  },
  {
   "cell_type": "markdown",
   "metadata": {},
   "source": [
    "<br />"
   ]
  },
  {
   "cell_type": "markdown",
   "metadata": {},
   "source": [
    "### Wybranie potrzebnych danych oraz przygotowanie ich"
   ]
  },
  {
   "cell_type": "markdown",
   "metadata": {},
   "source": [
    "Następnym krokiem było wybranie interesujących mnie kolumn z wczytanego pliku, a więc początkowo tych zawierających φ, λ oraz h. Należało również zamienić jednostkę wysokości ze stóp na metry. Przyjęliśmy, że wszystkie wysokości w pliku odniesione są do lotniska początkowego. Aby przeliczyć wysokości do wysokości elipsoidalnej, należało do wszystkich wysokości dodać wysokość normalną oraz odstęp elipsoidy od quasigeoidy,  razem 135.4m."
   ]
  },
  {
   "cell_type": "code",
   "execution_count": null,
   "metadata": {},
   "outputs": [],
   "source": [
    "flh = dane[:,[7,8,9]]\n",
    "flh[:,-1] = flh[:,-1]*0.3048 + 135.40"
   ]
  },
  {
   "cell_type": "markdown",
   "metadata": {},
   "source": [
    "Następnie zapisałem pierwszy rekord, zawierający współrzędne lotniska oraz usunąłem rekordy, w których samolot stał w miejscu."
   ]
  },
  {
   "cell_type": "code",
   "execution_count": null,
   "metadata": {},
   "outputs": [],
   "source": [
    "flh_lotnisko = flh[0,:]\n",
    "flh = flh[66:,:]"
   ]
  },
  {
   "cell_type": "markdown",
   "metadata": {},
   "source": [
    "<br />"
   ]
  },
  {
   "cell_type": "markdown",
   "metadata": {},
   "source": [
    "### Przeliczenie współrzędnych φ, λ, h lotniska do współrzędnych ortokartezjańskich X, Y, Z"
   ]
  },
  {
   "cell_type": "markdown",
   "metadata": {},
   "source": [
    "Do przeliczenia współrzędnych, wykorzystałem utworzoną funkcję <i>flh2xyz</i>, przyjmującą jako argumenty φ oraz λ w radianach oraz h w metrach oraz zwracającą tablicę z wyliczonymi współrzędnymi X, Y, Z."
   ]
  },
  {
   "cell_type": "code",
   "execution_count": null,
   "metadata": {},
   "outputs": [],
   "source": [
    "a = 6378137 # wielka półoś elipsoidy GRS80 w metrach\n",
    "e2 = 0.00669438002290 # kwadrat pierwszego mimośrodu dla elipsoidy GRS80\n",
    "\n",
    "def flh2xyz(phi, lamb, h):\n",
    "    N = a/np.sqrt(1-e2*np.sin(phi)**2)\n",
    "    x = (N + h)*np.cos(phi)*np.cos(lamb)\n",
    "    y = (N + h)*np.cos(phi)*np.sin(lamb)\n",
    "    z = (N*(1-e2)+h)*np.sin(phi)\n",
    "    return [x, y, z]"
   ]
  },
  {
   "cell_type": "markdown",
   "metadata": {},
   "source": [
    "Najpierw obliczyłem współrzędne X, Y, Z lotniska, uprzednio zamieniając współrzędne φ oraz λ ze stopni na radiany."
   ]
  },
  {
   "cell_type": "code",
   "execution_count": null,
   "metadata": {},
   "outputs": [],
   "source": [
    "xyz_lotnisko = flh2xyz(np.deg2rad(flh_lotnisko[0]), np.deg2rad(flh_lotnisko[1]), flh_lotnisko[2])"
   ]
  },
  {
   "cell_type": "markdown",
   "metadata": {},
   "source": [
    "<br />"
   ]
  },
  {
   "cell_type": "markdown",
   "metadata": {},
   "source": [
    "### Pętla - główne obliczenia\n",
    "Najpierw zdefiniowałem macierz obrotu między układem\n",
    "współrzędnych geocentrycznych i lokalnych, potrzebną do kolejnych obliczeń."
   ]
  },
  {
   "cell_type": "code",
   "execution_count": null,
   "metadata": {},
   "outputs": [],
   "source": [
    "def Rneu(phi, lamb):\n",
    "    R = np.array([[-np.sin(phi)*np.cos(lamb), -np.sin(lamb), np.cos(phi)*np.cos(lamb)],\n",
    "                    [-np.sin(phi)*np.sin(lamb), np.cos(lamb), np.cos(phi)*np.sin(lamb)],\n",
    "                    [np.cos(phi), 0, np.sin(phi)]])\n",
    "    return R"
   ]
  },
  {
   "cell_type": "markdown",
   "metadata": {},
   "source": [
    "Wykorzystałem macierz do obliczenia wektora neu dla lotniska."
   ]
  },
  {
   "cell_type": "code",
   "execution_count": null,
   "metadata": {},
   "outputs": [],
   "source": [
    "R = Rneu(np.deg2rad(flh_lotnisko[0]), np.deg2rad(flh_lotnisko[1]))"
   ]
  },
  {
   "cell_type": "markdown",
   "metadata": {},
   "source": [
    "W pętli kolejno zamieniałem wszystkie współrzędne φ, λ, h do współrzędnych X, Y, Z dla każdego rekordu. Następnie w pętli obliczany był wektor samolot-lotnisko xsl oraz zamieniany na współrzędne lokalne neu. Dalej liczony był azymut, długość wektora oraz wysokość horyzontalna. W ostatniej części pętli poszczególne dane z rekordów były zapisywane do tablic."
   ]
  },
  {
   "cell_type": "code",
   "execution_count": null,
   "metadata": {},
   "outputs": [],
   "source": [
    "for fi, lam, h in flh:\n",
    "    xyz = flh2xyz(np.deg2rad(fi), np.deg2rad(lam), h)\n",
    "\n",
    "    xsl = np.array(xyz) - xyz_lotnisko\n",
    "    neu = R.T @ xsl\n",
    "\n",
    "    az = np.rad2deg(np.arctan2(neu[1], neu[0]))\n",
    "    s = np.sqrt(neu[0]**2 + neu[1]**2 + neu[2]**2) / 1000\n",
    "    hrzalt = np.arcsin(neu[2]/(1000*s))\n",
    "\n",
    "    hrzaltitudes.append(hrzalt)\n",
    "    azimuths.append(az)\n",
    "    distances.append(s)\n",
    "    altitudes.append(h)\n",
    "    locations.append([fi, lam])"
   ]
  },
  {
   "cell_type": "markdown",
   "metadata": {},
   "source": [
    "<br />"
   ]
  },
  {
   "cell_type": "markdown",
   "metadata": {},
   "source": [
    "### Znalezienie punktu, w którym wysokość horyzontalna staje się ujemna."
   ]
  },
  {
   "cell_type": "markdown",
   "metadata": {},
   "source": [
    "Częścią zadania było również wyznaczenie momentu, w którym samolot znika poniżej horyzontu. Poniższa pętla przeszła przez wszystkie obliczone wartości i zapisała indeks pierwszej ujemnej wartości wysokości."
   ]
  },
  {
   "cell_type": "code",
   "execution_count": null,
   "metadata": {},
   "outputs": [],
   "source": [
    "breakpoint = None\n",
    "\n",
    "for i in range(len(hrzaltitudes)):\n",
    "    if hrzaltitudes[i] < 0:\n",
    "        breakpoint = i\n",
    "        break"
   ]
  },
  {
   "cell_type": "markdown",
   "metadata": {},
   "source": [
    "<br />"
   ]
  },
  {
   "cell_type": "markdown",
   "metadata": {},
   "source": [
    "## Wizualizacje"
   ]
  },
  {
   "cell_type": "markdown",
   "metadata": {},
   "source": [
    "### Mapa lotu, przedstawiająca trasę przelotu z lotniska A do B"
   ]
  },
  {
   "cell_type": "code",
   "execution_count": null,
   "metadata": {},
   "outputs": [],
   "source": [
    "import folium\n",
    "\n",
    "map = folium.Map(location=[52.164318, 20.981787], zoom_start=6)\n",
    "\n",
    "folium.PolyLine(locations[:i], color='green', weight=2.5, opacity=1).add_to(map)\n",
    "folium.PolyLine(locations[i-1:], color='red', weight=2.5, opacity=1).add_to(map)\n",
    "\n",
    "map.save('mapa.html')"
   ]
  },
  {
   "cell_type": "markdown",
   "metadata": {},
   "source": [
    "<style>\n",
    "    .center {\n",
    "      text-align: center;\n",
    "    }\n",
    "\n",
    "    .center img {\n",
    "      display: block;\n",
    "      margin: 0 auto;\n",
    "    }\n",
    "</style>\n",
    "<div class=\"center\">\n",
    "    <img src=\"mapa.png\">\n",
    "</div>"
   ]
  },
  {
   "cell_type": "markdown",
   "metadata": {},
   "source": [
    "<br />"
   ]
  },
  {
   "cell_type": "markdown",
   "metadata": {},
   "source": [
    "### Wykres skyplot - przedstawienie położenia samolotu w układzie lotniska początkowego do momentu zniknięcia na horyzoncie"
   ]
  },
  {
   "cell_type": "code",
   "execution_count": null,
   "metadata": {},
   "outputs": [],
   "source": [
    "import matplotlib.pyplot as plt\n",
    "\n",
    "fig = plt.figure()\n",
    "ax = fig.add_subplot(111, projection='polar')\n",
    "ax.set_theta_direction(-1)\n",
    "ax.set_theta_offset(np.pi/2)\n",
    "ax.plot(np.deg2rad(azimuths[:i]), distances[:i], 'o', color='orange', markersize=5)"
   ]
  },
  {
   "cell_type": "markdown",
   "metadata": {},
   "source": [
    "  <style>\n",
    "    .center {\n",
    "      text-align: center;\n",
    "    }\n",
    "\n",
    "    .center img {\n",
    "      display: block;\n",
    "      margin: 0 auto;\n",
    "    }\n",
    "  </style>\n",
    "\n",
    "<div class=\"center\">\n",
    "    <img src=\"skyplot.png\">\n",
    "</div>\n",
    "<p>Wykres przedstawia azymuty w stopniach oraz odległość od lotniska początkowego w kilometrach.</p>"
   ]
  },
  {
   "cell_type": "markdown",
   "metadata": {},
   "source": [
    "<br />"
   ]
  },
  {
   "cell_type": "markdown",
   "metadata": {},
   "source": [
    "### Wykres zmian wysokości lotu samolotu w zależności od czasu"
   ]
  },
  {
   "cell_type": "code",
   "execution_count": null,
   "metadata": {},
   "outputs": [],
   "source": [
    "start_time = dane[65,0]\n",
    "times = []\n",
    "\n",
    "for i in dane[:,0]:\n",
    "    times.append((i - start_time)/3600)\n",
    "\n",
    "times = times[66:]\n",
    "\n",
    "plt.figure()\n",
    "plt.plot(times[:i], altitudes[:i], color='green')\n",
    "plt.plot(times[i-1:], altitudes[i-1:], color='red')\n",
    "plt.ylim(0, 12000)\n",
    "plt.xlim(0, 7.5)\n",
    "plt.xlabel('czas lotu[h]')\n",
    "plt.ylabel('wysokość [m]')\n",
    "plt.title('wysokość samolotu w zależności od czasu lotu')\n",
    "plt.xticks(np.arange(0, 8, 0.5))\n",
    "plt.grid()\n",
    "plt.show()"
   ]
  },
  {
   "cell_type": "markdown",
   "metadata": {},
   "source": [
    "<style>\n",
    "    .center {\n",
    "      text-align: center;\n",
    "    }\n",
    "\n",
    "    .center img {\n",
    "      display: block;\n",
    "      margin: 0 auto;\n",
    "    }\n",
    "</style>\n",
    "\n",
    "<div class=\"center\">\n",
    "<img src=\"wswzoc.png\">\n",
    "</div>"
   ]
  },
  {
   "cell_type": "markdown",
   "metadata": {},
   "source": [
    "<br />"
   ]
  },
  {
   "cell_type": "markdown",
   "metadata": {},
   "source": [
    "### Wykres zmian prędkości lotu samolotu w zależności od czasu"
   ]
  },
  {
   "cell_type": "code",
   "execution_count": null,
   "metadata": {},
   "outputs": [],
   "source": [
    "start_time = dane[0,0]\n",
    "times = []\n",
    "\n",
    "for i in dane[:,0]:\n",
    "    times.append((i - start_time)/3600)\n",
    "\n",
    "spd = dane[:,-2]\n",
    "speeds = []\n",
    "\n",
    "for i in spd:\n",
    "    speeds.append(i)\n",
    "\n",
    "plt.figure()\n",
    "i += 66\n",
    "plt.plot(times[:i], speeds[:i], color='green')\n",
    "plt.plot(times[i-1:], speeds[i-1:], color='red')\n",
    "plt.ylim(0, 500)\n",
    "plt.xlim(0, 7.6)\n",
    "plt.xlabel('czas lotu[h]')\n",
    "plt.ylabel('prędkość [km/h]')\n",
    "plt.title('prędkość samolotu w zależności od czasu lotu')\n",
    "plt.xticks(np.arange(0, 8, 0.5))\n",
    "plt.grid()\n",
    "plt.show()"
   ]
  },
  {
   "cell_type": "markdown",
   "metadata": {},
   "source": [
    "<style>\n",
    "    .center {\n",
    "      text-align: center;\n",
    "    }\n",
    "\n",
    "    .center img {\n",
    "      display: block;\n",
    "      margin: 0 auto;\n",
    "    }\n",
    "</style>\n",
    "\n",
    "<div class=\"center\">\n",
    "    <img src=\"pswzoc.png\">\n",
    "</div>\n",
    "</p>"
   ]
  },
  {
   "cell_type": "markdown",
   "metadata": {},
   "source": [
    "<br />"
   ]
  },
  {
   "cell_type": "markdown",
   "metadata": {},
   "source": [
    "### Wykres zmian odległości samolotu od lotniska w zależności od czasu"
   ]
  },
  {
   "cell_type": "code",
   "execution_count": null,
   "metadata": {},
   "outputs": [],
   "source": [
    "plt.figure()\n",
    "plt.plot(times[:i], distances[:i], color='green')\n",
    "plt.plot(times[i-1:], distances[i-1:], color='red')\n",
    "plt.ylim(0)\n",
    "plt.xlim(0, 7.7)\n",
    "plt.xlabel('czas lotu[h]')\n",
    "plt.ylabel('odległość [km]')\n",
    "plt.title('odległość samolotu od lotniska początkowego w zależności od czasu lotu')\n",
    "plt.xticks(np.arange(0, 8, 0.5))\n",
    "plt.grid()\n",
    "plt.show()"
   ]
  },
  {
   "cell_type": "markdown",
   "metadata": {},
   "source": [
    "<style>\n",
    "    .center {\n",
    "      text-align: center;\n",
    "    }\n",
    "\n",
    "    .center img {\n",
    "      display: block;\n",
    "      margin: 0 auto;\n",
    "    }\n",
    "</style>\n",
    "\n",
    "<div class=\"center\">\n",
    "    <img src=\"wzosolp.png\">\n",
    "</div>\n",
    "</p>"
   ]
  },
  {
   "cell_type": "markdown",
   "metadata": {},
   "source": [
    "<br />"
   ]
  },
  {
   "cell_type": "markdown",
   "metadata": {},
   "source": [
    "## Wnioski"
   ]
  },
  {
   "cell_type": "markdown",
   "metadata": {},
   "source": [
    "<li>Rozpatrywany lot odbywał się na trasie Warszawa-Espargos(Republika Zielonego Przylądka).</li>\n",
    "<li>Samolot wystartował z Lotniska Chopina w Warszawie, a wylądował na lotnisku Amílcar Cabral nieopodal Espargos.</li>\n",
    "<li>Samolot przestał być widoczny na horyzoncie z poziomu lotniska startowego nieopodal Głogowa, około 45 minut po wystartowaniu.</li>\n",
    "<li>Samolot w szczytowym okresie osiągnął wysokość niemal 12km.</li>\n",
    "<li>Samolot ustabilizował swoją prędkość po około pół godziny lotu, na poziomie 420-450 km/h.</li>\n",
    "<li>Samolot rozpoczął obniżać swoją prędkość około pół godziny przez wylądowaniem.</li>\n",
    "<li>Odległość, jaką przebył samolot to około 5300 km. Lot trwał około 7.5h.</li>"
   ]
  },
  {
   "cell_type": "markdown",
   "metadata": {},
   "source": [
    "## Kod źródłowy"
   ]
  },
  {
   "cell_type": "code",
   "execution_count": null,
   "metadata": {},
   "outputs": [],
   "source": [
    "import numpy as np\n",
    "from read_flightradar import read_flightradar\n",
    "import folium\n",
    "import matplotlib.pyplot as plt\n",
    "\n",
    "a = 6378137 # wielka półoś elipsoidy GRS80 w metrach\n",
    "e2 = 0.00669438002290 # kwadrat pierwszego mimośrodu dla elipsoidy GRS80\n",
    "\n",
    "def Rneu(phi, lamb):\n",
    "    R = np.array([[-np.sin(phi)*np.cos(lamb), -np.sin(lamb), np.cos(phi)*np.cos(lamb)],\n",
    "                    [-np.sin(phi)*np.sin(lamb), np.cos(lamb), np.cos(phi)*np.sin(lamb)],\n",
    "                    [np.cos(phi), 0, np.sin(phi)]])\n",
    "    return R\n",
    "\n",
    "def flh2xyz(phi, lamb, h):\n",
    "    N = a/np.sqrt(1-e2*np.sin(phi)**2)\n",
    "    x = (N + h)*np.cos(phi)*np.cos(lamb)\n",
    "    y = (N + h)*np.cos(phi)*np.sin(lamb)\n",
    "    z = (N*(1-e2)+h)*np.sin(phi)\n",
    "    return [x, y, z]\n",
    "\n",
    "file = 'lot4.csv'\n",
    "dane = read_flightradar(file)\n",
    "\n",
    "flh = dane[:,[7,8,9]]\n",
    "flh[:,-1] = flh[:,-1]*0.3048 + 135.40\n",
    "\n",
    "flh_lotnisko = flh[0,:]\n",
    "flh = flh[66:,:]\n",
    "\n",
    "xyz_lotnisko = flh2xyz(np.deg2rad(flh_lotnisko[0]), np.deg2rad(flh_lotnisko[1]), flh_lotnisko[2])\n",
    "\n",
    "R = Rneu(np.deg2rad(flh_lotnisko[0]), np.deg2rad(flh_lotnisko[1]))\n",
    "\n",
    "azimuths = []\n",
    "altitudes = []\n",
    "distances = []\n",
    "hrzaltitudes = []\n",
    "locations = []\n",
    "\n",
    "start_time = dane[0,0]\n",
    "times = []\n",
    "\n",
    "for i in dane[:,0]:\n",
    "    times.append((i - start_time)/3600)\n",
    "\n",
    "times = times[66:]\n",
    "\n",
    "breakpoint = None\n",
    "\n",
    "speeds = []\n",
    "spd = dane[:,-2]\n",
    "for i in spd:\n",
    "    speeds.append(i)\n",
    "\n",
    "speeds = speeds[66:]\n",
    "\n",
    "for fi, lam, h in flh:\n",
    "    xyz = flh2xyz(np.deg2rad(fi), np.deg2rad(lam), h)\n",
    "\n",
    "    xsl = np.array(xyz) - xyz_lotnisko\n",
    "    neu = R.T @ xsl\n",
    "\n",
    "    az = np.rad2deg(np.arctan2(neu[1], neu[0]))\n",
    "    s = np.sqrt(neu[0]**2 + neu[1]**2 + neu[2]**2) / 1000\n",
    "    hrzalt = np.arcsin(neu[2]/(1000*s))\n",
    "\n",
    "    hrzaltitudes.append(hrzalt)\n",
    "    azimuths.append(az)\n",
    "    distances.append(s)\n",
    "    altitudes.append(h)\n",
    "    locations.append([fi, lam])\n",
    "\n",
    "for i in range(len(hrzaltitudes)):\n",
    "    if hrzaltitudes[i] < 0:\n",
    "        breakpoint = i\n",
    "        break\n",
    "\n",
    "# mapa lotu\n",
    "map = folium.Map(location=[52.164318, 20.981787], zoom_start=6)\n",
    "folium.PolyLine(locations[:i], color='green', weight=2.5, opacity=1).add_to(map)\n",
    "folium.PolyLine(locations[i-1:], color='red', weight=2.5, opacity=1).add_to(map)\n",
    "map.save('mapa.html')\n",
    "\n",
    "\n",
    "# wykres skyplot\n",
    "fig = plt.figure()\n",
    "ax = fig.add_subplot(111, projection='polar')\n",
    "ax.set_theta_direction(-1)\n",
    "ax.set_theta_offset(np.pi/2)\n",
    "ax.plot(np.deg2rad(azimuths[:i]), distances[:i], 'o', color='orange', markersize=5)\n",
    "plt.savefig('skyplot.png', dpi=300)\n",
    "\n",
    "# wykres wysokości samolotu\n",
    "plt.figure()\n",
    "plt.plot(times[:i], altitudes[:i], color='green')\n",
    "plt.plot(times[i-1:], altitudes[i-1:], color='red')\n",
    "plt.ylim(0, 12000)\n",
    "plt.xlim(0, 7.5)\n",
    "plt.xlabel('czas lotu[h]')\n",
    "plt.ylabel('wysokość [m]')\n",
    "plt.title('wysokość samolotu w zależności od czasu lotu')\n",
    "plt.xticks(np.arange(0, 8, 0.5))\n",
    "plt.grid()\n",
    "plt.savefig('wswzoc.png', dpi=300)\n",
    "\n",
    "# wykres prędkości samolotu\n",
    "plt.figure()\n",
    "plt.plot(times[:i], speeds[:i], color='green')\n",
    "plt.plot(times[i-1:], speeds[i-1:], color='red')\n",
    "plt.ylim(0, 500)\n",
    "plt.xlim(0, 7.6)\n",
    "plt.xlabel('czas lotu[h]')\n",
    "plt.ylabel('prędkość [km/h]')\n",
    "plt.title('prędkość samolotu w zależności od czasu lotu')\n",
    "plt.xticks(np.arange(0, 8, 0.5))\n",
    "plt.grid()\n",
    "plt.savefig('pswzoc.png', dpi=300)\n",
    "\n",
    "# wykres odległości samolotu od lotniska początkowego\n",
    "plt.figure()\n",
    "plt.plot(times[:i], distances[:i], color='green')\n",
    "plt.plot(times[i-1:], distances[i-1:], color='red')\n",
    "plt.ylim(0)\n",
    "plt.xlim(0, 7.7)\n",
    "plt.xlabel('czas lotu[h]')\n",
    "plt.ylabel('odległość [km]')\n",
    "plt.title('odległość samolotu od lotniska początkowego w zależności od czasu lotu')\n",
    "plt.xticks(np.arange(0, 8, 0.5))\n",
    "plt.grid()\n",
    "plt.savefig('wzowzoc.png', dpi=300)\n",
    "\n",
    "plt.show()"
   ]
  }
 ],
 "metadata": {
  "kernelspec": {
   "display_name": "Python 3",
   "language": "python",
   "name": "python3"
  },
  "language_info": {
   "codemirror_mode": {
    "name": "ipython",
    "version": 3
   },
   "file_extension": ".py",
   "mimetype": "text/x-python",
   "name": "python",
   "nbconvert_exporter": "python",
   "pygments_lexer": "ipython3",
   "version": "3.11.3"
  }
 },
 "nbformat": 4,
 "nbformat_minor": 2
}
