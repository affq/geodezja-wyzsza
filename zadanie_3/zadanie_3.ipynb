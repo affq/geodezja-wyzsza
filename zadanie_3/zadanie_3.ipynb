{
 "cells": [
  {
   "cell_type": "markdown",
   "metadata": {},
   "source": [
    "# Zadanie 3 - Przeniesienie współrzednych geodezyjnych na powierzchnię elipsoidy obrotowej\n",
    "\n",
    "<li>Autor: Adrian Fabisiewicz</li>\n",
    "<li>Numer indeksu: 328935</li>\n",
    "<li>Numer: 4</li>\n",
    "<li>φ<sub>1</sub> = 50°01′00.00000”</li>\n",
    "<li>λ<sub>1</sub> = 18°01′00.00000”</li>"
   ]
  },
  {
   "cell_type": "markdown",
   "metadata": {},
   "source": [
    "## Cel ćwiczenia\n",
    "Celem ćwiczenia jest przeniesienie współrzędnych geodezyjnych na powierzchni elipsoidy obrotowej. Na podstawie danej szerokości i długości geograficznej punktu pierwszego, a także danych azymutów oraz długości trzech linii geodezyjnych wyliczyć współrzędne punktów 2, 3 i 4 na powierzchni elipsoidy obrotowej. Do obliczeń wykorzystano algorytm Kivioja. Należało stwierdzić, czy figura po obliczeniu wszystkich współrzędnych się zamknie oraz  porównać różnice współrzędnych po ich przeniesieniu. Ostatnim etapem było przedstawienie figury, stworzonej przez obliczone punkty, na mapie, a także obliczenie jej pola powierzchni z wykorzystaniem biblioteki <i>pyproj</i>."
   ]
  },
  {
   "cell_type": "markdown",
   "metadata": {},
   "source": [
    "## Dane do zadania\n",
    "Dany były współrzędne geodezyjne punktu początkowego P<sub>1</sub>, wynoszące:\n",
    "<li>φ<sub>1</sub> = 50°01′00.00000”</li>\n",
    "<li>λ<sub>1</sub> = 18°01′00.00000”</li>\n",
    "\n",
    "Podano również azymuty oraz długości trzech lini geodezyjnych:\n",
    "<table border=\"1\">\n",
    "    <thead>\n",
    "        <tr>\n",
    "            <th></th>\n",
    "            <th>długość <i>s</i> [km] </th>\n",
    "            <th>azymut <i>A</i> [°]</th>\n",
    "        </tr>\n",
    "    </thead>\n",
    "    <tbody>\n",
    "        <tr>\n",
    "            <td>1-2</td>\n",
    "            <td>40</td>\n",
    "            <td>0°00′00.000</td>\n",
    "        </tr>\n",
    "        <tr>\n",
    "            <td>2-3</td>\n",
    "            <td>100</td>\n",
    "            <td>90°00′00.000</td>\n",
    "        </tr>\n",
    "        <tr>\n",
    "            <td>3-4</td>\n",
    "            <td>40</td>\n",
    "            <td>180°00′00.000</td>\n",
    "        </tr>\n",
    "        <tr>\n",
    "            <td>4-1*</td>\n",
    "            <td>100</td>\n",
    "            <td>270°00′00.000</td>\n",
    "        </tr>\n",
    "    </tbody>\n",
    "</table>"
   ]
  },
  {
   "cell_type": "markdown",
   "metadata": {},
   "source": [
    "## Kolejność wykonywania obliczeń"
   ]
  },
  {
   "cell_type": "markdown",
   "metadata": {},
   "source": [
    "### Zapisanie danych używanych w zadaniu"
   ]
  },
  {
   "cell_type": "code",
   "execution_count": 20,
   "metadata": {},
   "outputs": [],
   "source": [
    "import numpy as np\n",
    "\n",
    "nr = 4\n",
    "\n",
    "point_1_phi_rad = np.deg2rad(50 + nr * 15/60) \n",
    "point_1_lam_rad = np.deg2rad(18 + nr * 15/60)\n",
    "\n",
    "s = [40000, 100000, 40000, 100000] #odległości w metrach kolejno 1-2, 2-3, 3-4, 4-1*\n",
    "az = np.deg2rad([0, 90, 180, 270]) #azymuty w radianach kolejno 1-2, 2-3, 3-4, 4-1*"
   ]
  },
  {
   "cell_type": "markdown",
   "metadata": {},
   "source": [
    "### Implementacja funkcji, realizującej algorytm Kivioja\n",
    "Funkcja jako argumenty przyjmuje szerokość i długość geograficzną pierwszego punktu oraz długość i azymut linii geodezyjnej. Akceptuje dane w radianach oraz metrach. Zwraca natomiast szerokość i długość geograficzną kolejnego punktu, a także azymut odwrotny linii w radianach."
   ]
  },
  {
   "cell_type": "code",
   "execution_count": 21,
   "metadata": {},
   "outputs": [],
   "source": [
    "a = 6378137\n",
    "e2 = 0.00669438002290\n",
    "\n",
    "def Np(phi):\n",
    "    N = a/np.sqrt(1-e2*np.sin(phi)**2)\n",
    "    return N\n",
    "\n",
    "def Mp(phi):\n",
    "    M = a*(1-e2)/((1-e2*np.sin(phi)**2)**(3/2))\n",
    "    return M\n",
    "\n",
    "def kivioj(phi, lam, s, az):\n",
    "    n = round(s / 1000)\n",
    "    ds = s/n\n",
    "\n",
    "    for i in range(n):\n",
    "        N_i = Np(phi)\n",
    "        M_i = Mp(phi)\n",
    "\n",
    "        dphi_i = ds*np.cos(az)/M_i\n",
    "        dA_i = ds*np.sin(az)*np.tan(phi)/N_i\n",
    "\n",
    "        phi_im = phi + dphi_i/2\n",
    "        az_im = az + dA_i/2\n",
    "\n",
    "        N_i = Np(phi_im)\n",
    "        M_i = Mp(phi_im)\n",
    "\n",
    "        dphi_i = ds*np.cos(az_im)/M_i\n",
    "        dA_i = ds*np.sin(az_im)*np.tan(phi_im)/N_i\n",
    "        dlam_i = ds*np.sin(az_im)/N_i/np.cos(phi_im)\n",
    "\n",
    "        phi = phi + dphi_i\n",
    "        lam = lam + dlam_i\n",
    "        az = az + dA_i\n",
    "\n",
    "    az_odw = (az + np.pi) % (2*np.pi)\n",
    "    return phi, lam, az_odw"
   ]
  },
  {
   "cell_type": "markdown",
   "metadata": {},
   "source": [
    "### Obliczenie kolejnych wierzchołków, z wykorzystaniem utworzonej funkcji"
   ]
  },
  {
   "cell_type": "markdown",
   "metadata": {},
   "source": [
    "Poniższa pętla przelicza współrzędne każdego punktu na elipsoidzie oraz zapisuje je w tablicy."
   ]
  },
  {
   "cell_type": "code",
   "execution_count": 22,
   "metadata": {},
   "outputs": [
    {
     "name": "stdout",
     "output_type": "stream",
     "text": [
      "[ 51.35954501  19.         180.        ]\n",
      "[ 51.35075017  20.43548958 271.12118602]\n",
      "[50.99120462 20.43548958  0.        ]\n",
      "[50.98252402 19.01138737 88.89344757]\n"
     ]
    }
   ],
   "source": [
    "# s = [40000, 100000, 40000, 100000]\n",
    "# az = np.deg2rad([0, 90, 180, 270])\n",
    "\n",
    "current_phi = point_1_phi_rad\n",
    "current_lam = point_1_lam_rad\n",
    "\n",
    "new_points_rad = []\n",
    "\n",
    "for p in range(len(s)):\n",
    "    current_phi, current_lam, az_odw = kivioj(current_phi, current_lam, s[p], az[p])\n",
    "    new_points_rad.append([current_phi, current_lam, az_odw])\n",
    "\n",
    "new_points_rad = np.array(new_points_rad)\n",
    "new_points_deg = np.rad2deg(new_points_rad)\n",
    "\n",
    "print (*new_points_deg, sep='\\n')"
   ]
  },
  {
   "cell_type": "markdown",
   "metadata": {},
   "source": [
    "Odpowiednio sformatowane współrzędne punktów zostały przedstawione poniżej."
   ]
  },
  {
   "cell_type": "code",
   "execution_count": 23,
   "metadata": {},
   "outputs": [
    {
     "name": "stdout",
     "output_type": "stream",
     "text": [
      "Współrzędne punktu 2 wynoszą 51°21'34.36205\" 19°00'0.00000\".\n",
      "Współrzędne punktu 3 wynoszą 51°21'2.70063\" 20°26'7.76249\".\n",
      "Współrzędne punktu 4 wynoszą 50°59'28.33662\" 20°26'7.76249\".\n",
      "Współrzędne punktu 1* wynoszą 50°58'57.08648\" 19°00'40.99454\".\n"
     ]
    }
   ],
   "source": [
    "def rad2dms(rad):\n",
    "    dd = np.rad2deg(rad)\n",
    "    dd = dd\n",
    "    deg = int(np.trunc(dd))\n",
    "    mnt = int(np.trunc((dd-deg) * 60))\n",
    "    sec = ((dd-deg) * 60 - mnt) * 60\n",
    "    dms = [deg, abs(mnt), abs(sec)]\n",
    "    return dms\n",
    "\n",
    "def angle_formatter(degrees, minutes, seconds):\n",
    "    return f'{degrees}°{minutes:02d}\\'{seconds:0.5f}\\\"'\n",
    "\n",
    "point_2_phi_d, point_2_phi_m, point_2_phi_s = rad2dms(new_points_rad[0][0])\n",
    "point_2_lam_d, point_2_lam_m, point_2_lam_s = rad2dms(new_points_rad[0][1])\n",
    "\n",
    "print(f'Współrzędne punktu 2 wynoszą {angle_formatter(point_2_phi_d, point_2_phi_m, point_2_phi_s)} {angle_formatter(point_2_lam_d, point_2_lam_m, point_2_lam_s)}.')\n",
    "\n",
    "point_3_phi_d, point_3_phi_m, point_3_phi_s = rad2dms(new_points_rad[1][0])\n",
    "point_3_lam_d, point_3_lam_m, point_3_lam_s = rad2dms(new_points_rad[1][1])\n",
    "\n",
    "print(f'Współrzędne punktu 3 wynoszą {angle_formatter(point_3_phi_d, point_3_phi_m, point_3_phi_s)} {angle_formatter(point_3_lam_d, point_3_lam_m, point_3_lam_s)}.')\n",
    "\n",
    "point_4_phi_d, point_4_phi_m, point_4_phi_s = rad2dms(new_points_rad[2][0])\n",
    "point_4_lam_d, point_4_lam_m, point_4_lam_s = rad2dms(new_points_rad[2][1])\n",
    "\n",
    "print(f'Współrzędne punktu 4 wynoszą {angle_formatter(point_4_phi_d, point_4_phi_m, point_4_phi_s)} {angle_formatter(point_4_lam_d, point_4_lam_m, point_4_lam_s)}.')\n",
    "\n",
    "point_1g_phi_d, point_1g_phi_m, point_1g_phi_s = rad2dms(new_points_rad[3][0])\n",
    "point_1g_lam_d, point_1g_lam_m, point_1g_lam_s = rad2dms(new_points_rad[3][1])\n",
    "\n",
    "print(f'Współrzędne punktu 1* wynoszą {angle_formatter(point_1g_phi_d, point_1g_phi_m, point_1g_phi_s)} {angle_formatter(point_1g_lam_d, point_1g_lam_m, point_1g_lam_s)}.')"
   ]
  },
  {
   "cell_type": "markdown",
   "metadata": {},
   "source": [
    "<table border=\"1\">\n",
    "    <thead>\n",
    "        <tr>\n",
    "            <th>punkt</th>\n",
    "            <th>φ</th>\n",
    "            <th>λ</th>\n",
    "        </tr>\n",
    "    </thead>\n",
    "    <tbody>\n",
    "        <tr>\n",
    "            <td>2</td>\n",
    "            <td>51°21'34.36205\"</td>\n",
    "            <td>19°00'0.00000\"</td>\n",
    "        </tr>\n",
    "        <tr>\n",
    "            <td>3</td>\n",
    "            <td>51°21'2.70063\"</td>\n",
    "            <td>20°26'7.76249\"</td>\n",
    "        </tr>\n",
    "        <tr>\n",
    "            <td>4</td>\n",
    "            <td>50°59'28.33662\"</td>\n",
    "            <td>20°26'7.76249\"</td>\n",
    "        </tr>\n",
    "        <tr>\n",
    "            <td>1*</td>\n",
    "            <td>50°58'57.08648\"</td>\n",
    "            <td>19°00'40.99454\"</td>\n",
    "        </tr>\n",
    "    </tbody>\n",
    "</table>"
   ]
  },
  {
   "cell_type": "markdown",
   "metadata": {},
   "source": [
    "### Obliczenie różnicy położenia między punktem 1 i 1*"
   ]
  },
  {
   "cell_type": "markdown",
   "metadata": {},
   "source": [
    "Na podstawie otrzymanych wyników da się zauważyć, że zwrócone przez funkcję <i>kivioj</i> współrzędne punktu 1* różnią się od współrzędnych, danych na początku w zadaniu. Różnicę tę można obliczyć z wykorzystaniem algorytmu Vincentego, którego implementacja została dołączona wraz z instrukcją do zadania."
   ]
  },
  {
   "cell_type": "code",
   "execution_count": 24,
   "metadata": {},
   "outputs": [],
   "source": [
    "def vincenty(BA,LA,BB,LB):\n",
    "    '''\n",
    "    Parameters\n",
    "    ----------\n",
    "    BA : szerokosc geodezyjna punktu A [RADIAN]\n",
    "    LA : dlugosc geodezyjna punktu A [RADIAN]\n",
    "    BB : szerokosc geodezyjna punktu B [RADIAN]\n",
    "    LB : dlugosc geodezyjna punktu B [RADIAN]\n",
    "\n",
    "    Returns\n",
    "    -------\n",
    "    sAB : dlugosc linii geodezyjnej AB [METR]\n",
    "    A_AB : azymut linii geodezyjnej AB [RADIAN]\n",
    "    A_BA : azymut odwrotny linii geodezyjne [RADIAN]\n",
    "    '''\n",
    "    b = a * np.sqrt(1-e2)\n",
    "    f = 1-b/a\n",
    "    dL = LB - LA\n",
    "    UA = np.arctan((1-f)*np.tan(BA))\n",
    "    UB = np.arctan((1-f)*np.tan(BB))\n",
    "    L = dL\n",
    "    while True:\n",
    "        sin_sig = np.sqrt((np.cos(UB)*np.sin(L))**2 +\\\n",
    "                          (np.cos(UA)*np.sin(UB) - np.sin(UA)*np.cos(UB)*np.cos(L))**2)\n",
    "        cos_sig = np.sin(UA)*np.sin(UB) + np.cos(UA) * np.cos(UB) * np.cos(L)\n",
    "        sig = np.arctan2(sin_sig,cos_sig)\n",
    "        sin_al = (np.cos(UA)*np.cos(UB)*np.sin(L))/sin_sig\n",
    "        cos2_al = 1 - sin_al**2\n",
    "        cos2_sigm = cos_sig - (2 * np.sin(UA) * np.sin(UB))/cos2_al\n",
    "        C = (f/16) * cos2_al * (4 + f*(4 - 3 * cos2_al))\n",
    "        Lst = L\n",
    "        L = dL + (1-C)*f*sin_al*(sig+C*sin_sig*(cos2_sigm+C*cos_sig*(-1 + 2*cos2_sigm**2)))\n",
    "        if abs(L-Lst)<(0.000001/206265):\n",
    "            break\n",
    "    \n",
    "    u2 = (a**2 - b**2)/(b**2) * cos2_al\n",
    "    A = 1 + (u2/16384) * (4096 + u2*(-768 + u2 * (320 - 175 * u2)))\n",
    "    B = u2/1024 * (256 + u2 * (-128 + u2 * (74 - 47 * u2)))\n",
    "    d_sig = B*sin_sig * (cos2_sigm + 1/4*B*(cos_sig*(-1+2*cos2_sigm**2)\\\n",
    "            - 1/6 *B*cos2_sigm * (-3 + 4*sin_sig**2)*(-3+4*cos2_sigm**2)))\n",
    "    sAB = b*A*(sig-d_sig)\n",
    "    A_AB = np.arctan2((np.cos(UB) * np.sin(L)),(np.cos(UA)*np.sin(UB) - np.sin(UA)*np.cos(UB)*np.cos(L)))\n",
    "    A_BA = np.arctan2((np.cos(UA) * np.sin(L)),(-np.sin(UA)*np.cos(UB) + np.cos(UA)*np.sin(UB)*np.cos(L))) + np.pi\n",
    "    return sAB, A_AB, A_BA"
   ]
  },
  {
   "cell_type": "code",
   "execution_count": 25,
   "metadata": {},
   "outputs": [
    {
     "name": "stdout",
     "output_type": "stream",
     "text": [
      "Odległość pomiędzy punktami 1 i 1* wynosi 2102.147m.\n"
     ]
    }
   ],
   "source": [
    "s_1_1g, az_1_1g, az_1g_1 = vincenty(point_1_phi_rad, point_1_lam_rad, new_points_rad[3][0], new_points_rad[3][1])\n",
    "\n",
    "print(f'Odległość pomiędzy punktami 1 i 1* wynosi {s_1_1g:.3f}m.')"
   ]
  },
  {
   "cell_type": "markdown",
   "metadata": {},
   "source": [
    "### Wyznaczenie odległości oraz azymutu z punktu 4 do punktu 1"
   ]
  },
  {
   "cell_type": "code",
   "execution_count": 26,
   "metadata": {},
   "outputs": [
    {
     "name": "stdout",
     "output_type": "stream",
     "text": [
      "Odległość z punktu 4 do punktu 1 wynosi 100780.718 m, czyli 100.780718 km.\n",
      "Azymut z punktu 4 do punktu 1 wynosi 271°06'50.47059\".\n"
     ]
    }
   ],
   "source": [
    "def rad2dms(rad):\n",
    "    dd = np.rad2deg(rad)\n",
    "    dd = dd\n",
    "    deg = int(np.trunc(dd))\n",
    "    mnt = int(np.trunc((dd-deg) * 60))\n",
    "    sec = ((dd-deg) * 60 - mnt) * 60\n",
    "    dms = [deg, abs(mnt), abs(sec)]\n",
    "    return dms\n",
    "\n",
    "s_4_1, az_4_1, az_1_4 = vincenty(new_points_rad[2][0], new_points_rad[2][1], point_1_phi_rad, point_1_lam_rad)\n",
    "az_4_1 = (az_4_1) % (2*np.pi)\n",
    "d, m, s = rad2dms(az_4_1)\n",
    "\n",
    "print(f'Odległość z punktu 4 do punktu 1 wynosi {s_4_1:0.3f} m, czyli {s_4_1/1000:0.6f} km.')\n",
    "print(f'Azymut z punktu 4 do punktu 1 wynosi {d}°{m:02d}\\'{s:0.5f}\\\".')"
   ]
  },
  {
   "cell_type": "markdown",
   "metadata": {},
   "source": [
    "### Wizualizacja położenia wszystkich punktów"
   ]
  },
  {
   "cell_type": "markdown",
   "metadata": {},
   "source": [
    "Z wykorzystaniem biblioteki folium zwizualizowano położenie punktów 1\\*, 1, 2, 3 oraz 4. Na utworzonej mapie widać różnicę w położeniu punktów 1 oraz 1*."
   ]
  },
  {
   "cell_type": "code",
   "execution_count": 29,
   "metadata": {},
   "outputs": [],
   "source": [
    "import folium\n",
    "\n",
    "m = folium.Map(location=[51, 19], zoom_start=9)\n",
    "\n",
    "points = []\n",
    "\n",
    "for i in range(len(new_points_deg)):\n",
    "    point_label = (i + 1) % len(new_points_deg) + 1\n",
    "    points.append([new_points_deg[i][0], new_points_deg[i][1]])\n",
    "    folium.Marker(points[i], tooltip=f'Punkt {point_label} {new_points_deg[i][0]} {new_points_deg[i][1]}').add_to(m)\n",
    "\n",
    "points.append([np.rad2deg(point_1_phi_rad), np.rad2deg(point_1_lam_rad)])\n",
    "folium.Marker(points[-1], tooltip=f'Punkt 1*').add_to(m)\n",
    "\n",
    "folium.Polygon(points, color='red', weight=2.5).add_to(m)\n",
    "\n",
    "m.save('mapa.html')"
   ]
  },
  {
   "cell_type": "markdown",
   "metadata": {},
   "source": [
    "<img src=\"mapa.png\" />"
   ]
  },
  {
   "cell_type": "markdown",
   "metadata": {},
   "source": [
    "<img src=\"zoomed_map.png\" />"
   ]
  },
  {
   "cell_type": "markdown",
   "metadata": {},
   "source": [
    "### Obliczenie pola powierzchni powstałej figury"
   ]
  },
  {
   "cell_type": "markdown",
   "metadata": {},
   "source": [
    "Z wykorzystaniem biblioteki <i>pyproj</i>, a dokładniej modułu Geod, obliczono pole powierzchni figury, powstałej z połączenia wszystkich punktów. Użyto do tego funkcji <i>geometry_area_perimeter</i>, wcześniej tworząc polygon z punktów z użyciem biblioteki <i>shapely</i>."
   ]
  },
  {
   "cell_type": "code",
   "execution_count": 30,
   "metadata": {},
   "outputs": [
    {
     "ename": "ModuleNotFoundError",
     "evalue": "No module named 'pyproj'",
     "output_type": "error",
     "traceback": [
      "\u001b[1;31m---------------------------------------------------------------------------\u001b[0m",
      "\u001b[1;31mModuleNotFoundError\u001b[0m                       Traceback (most recent call last)",
      "Cell \u001b[1;32mIn[30], line 1\u001b[0m\n\u001b[1;32m----> 1\u001b[0m \u001b[38;5;28;01mfrom\u001b[39;00m \u001b[38;5;21;01mpyproj\u001b[39;00m \u001b[38;5;28;01mimport\u001b[39;00m Geod\n\u001b[0;32m      2\u001b[0m \u001b[38;5;28;01mfrom\u001b[39;00m \u001b[38;5;21;01mshapely\u001b[39;00m\u001b[38;5;21;01m.\u001b[39;00m\u001b[38;5;21;01mgeometry\u001b[39;00m \u001b[38;5;28;01mimport\u001b[39;00m Polygon\n\u001b[0;32m      4\u001b[0m geod \u001b[38;5;241m=\u001b[39m Geod(ellps\u001b[38;5;241m=\u001b[39m\u001b[38;5;124m'\u001b[39m\u001b[38;5;124mGRS80\u001b[39m\u001b[38;5;124m'\u001b[39m)\n",
      "\u001b[1;31mModuleNotFoundError\u001b[0m: No module named 'pyproj'"
     ]
    }
   ],
   "source": [
    "from pyproj import Geod\n",
    "from shapely.geometry import Polygon\n",
    "\n",
    "geod = Geod(ellps='GRS80')\n",
    "poly = Polygon(points)\n",
    "\n",
    "print(points)\n",
    "\n",
    "lons = points[0][1], points[1][1], points[2][1], points[3][1], points[4][1]\n",
    "lats = points[0][0], points[1][0], points[2][0], points[3][0], points[4][0]\n",
    "\n",
    "area = -geod.polygon_area_perimeter(lons, lats)[0]\n",
    "\n",
    "print(f'Pole powierzchni wynosi {area:.6f} m^2, czyli {area/1000000:.12f} km^2.')"
   ]
  },
  {
   "cell_type": "markdown",
   "metadata": {},
   "source": [
    "### Wnioski"
   ]
  }
 ],
 "metadata": {
  "kernelspec": {
   "display_name": ".venv",
   "language": "python",
   "name": "python3"
  },
  "language_info": {
   "codemirror_mode": {
    "name": "ipython",
    "version": 3
   },
   "file_extension": ".py",
   "mimetype": "text/x-python",
   "name": "python",
   "nbconvert_exporter": "python",
   "pygments_lexer": "ipython3",
   "version": "3.9.13"
  }
 },
 "nbformat": 4,
 "nbformat_minor": 2
}
