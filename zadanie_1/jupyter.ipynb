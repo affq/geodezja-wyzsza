{
 "cells": [
  {
   "cell_type": "markdown",
   "metadata": {},
   "source": [
    "# Zadanie 1"
   ]
  },
  {
   "cell_type": "markdown",
   "metadata": {},
   "source": [
    "<p>Autor: Adrian Fabisiewicz</p>\n",
    "<p>Nr indeksu: 328935</p>\n",
    "<p>Nr gwiazdy z RA FK5: 168</p>\n",
    "<p>Rektascencja: 4<sup>h</sup> 37<sup>m</sup> 16.316<sup>s</sup></p>\n",
    "<p>Deklinacja: 16° 33<sup>m</sup> 16.570<sup>s</sup></p>"
   ]
  },
  {
   "cell_type": "markdown",
   "metadata": {},
   "source": [
    "## Cel ćwiczenia\n",
    "Zadanie polegało na wyznaczeniu położenia danej gwiazdy w układzie współrzędnych horyzontalnych dla dwóch miejsc na Ziemi. Pierwsze miejsce znajduje się niedaleko Warszawy, jego przyjętą szerokością geograficzną było 52 stopnie, a długością - 21 stopni. Drugim rozpatrywanym miejscem był równik, miejsce o tej samej długości geograficznej, co pierwszy punkt. Obliczenia zostały wykonane dla całej doby, w godzinnych interwałach. Pierwsze wyliczone położenie gwiazdy miało miejsce 1 lipca 2023 roku o godzinie 02:00, a ostatnie - 2 lipca 2023 roku o godzinie 01:00. Wszystkie wyliczone położenia zwizualizowano na wykresach."
   ]
  },
  {
   "cell_type": "markdown",
   "metadata": {},
   "source": [
    "## Dane do zadania"
   ]
  },
  {
   "cell_type": "markdown",
   "metadata": {},
   "source": [
    "Rozpatrywaną gwiazdą była gwiazda nr 168 z RA FK5, której współrzędne w układzie równikowym ekwinokcjalnym, na epokę 2023.5, wynosiły:\n",
    "<li>α: 4<sup>h</sup> 37<sup>m</sup> 16.316<sup>s</sup></li>\n",
    "<li>δ: 16° 33<sup>m</sup> 16.570<sup>s</sup></li>\n",
    "\n",
    "<p>Współrzędne rozpatrywanych miejsc:</p>\n",
    "<li>okolice Warszawy: φ = 52◦; λ = 21◦</li>\n",
    "<li>równik: φ = 0◦; λ = 21◦</li>"
   ]
  },
  {
   "cell_type": "markdown",
   "metadata": {},
   "source": [
    "## Kolejność wykonywania ćwiczeń"
   ]
  },
  {
   "cell_type": "markdown",
   "metadata": {},
   "source": [
    "### Uwzględnienie strefy czasowej"
   ]
  },
  {
   "cell_type": "markdown",
   "metadata": {},
   "source": [
    "Na początku należało zauważyć strefy czasowe punktów, biorąc pod uwagę, że znajdują się one w strefie UTC+2. W wyniku tego, w obliczeniach został uwzględniony okres od 1 lipca 2023, od godziny 2<sup>00</sup> do 2 lipca 2023, godziny 2<sup>00</sup> czasu UTC. Dzięki temu zabiegowi uzyskano położenia gwiazdy dla całej doby 1 lipca, od godziny 0 do 24, już w czasie UTC+2."
   ]
  },
  {
   "cell_type": "markdown",
   "metadata": {},
   "source": [
    "<br />"
   ]
  },
  {
   "cell_type": "markdown",
   "metadata": {},
   "source": [
    "### Obliczenie lokalnego czasu gwiazdowego"
   ]
  },
  {
   "cell_type": "markdown",
   "metadata": {},
   "source": [
    "Kolejnym krokiem było obliczenie lokalnego czasu gwiazdowego dla wybranych miejsc. Aby to zrobić, najpierw należało zapisać interesującą nas datę, używając kalendarza juliańskiego. Zastosowanie daty juliańskiej w obliczeniach astronomicznych między innymi pozwoliło na uniknięcie problemu przy zmianie kalendarza z juliańskiego na gregoriański. Do konwersji użyto uproszczoną wersję algorytmu, dostarczoną wraz z zadaniem, która pozwala na wykonanie poprawnych obliczeń w przedziale od 1 Marca 1900 do 28 lutego 2100. Wykorzystano przy tym poniższą funkcję <i>julday<i>."
   ]
  },
  {
   "cell_type": "code",
   "execution_count": null,
   "metadata": {},
   "outputs": [],
   "source": [
    "def julday(y,m,d,h):\n",
    "    '''\n",
    "    Simplified Julian Date generator, valid only between\n",
    "    1 March 1900 to 28 February 2100\n",
    "    '''\n",
    "    if m <= 2:\n",
    "        y = y - 1\n",
    "        m = m + 12\n",
    "    \n",
    "    jd = np.floor(365.25*(y+4716))+np.floor(30.6001*(m+1))+d+h/24-1537.5\n",
    "    return jd"
   ]
  },
  {
   "cell_type": "markdown",
   "metadata": {},
   "source": [
    "Następnie, na podstawie otrzymanej daty juliańskiej, można było obliczyć czas średni gwiazdowy Greenwich (GMST). Aby to zrobić, skorzystałem z dostarczonej funkcji <i>GMST</i>, która jako argument przyjmowała datę juliańską. Funkcja zwróciła czas średni gwiazdowy Greenwich, w godzinach."
   ]
  },
  {
   "cell_type": "code",
   "execution_count": null,
   "metadata": {},
   "outputs": [],
   "source": [
    "def GMST(jd):\n",
    "    '''\n",
    "    calculation of Greenwich Mean Sidereal Time - GMST in hours\n",
    "    ----------\n",
    "    jd : TYPE\n",
    "        julian date\n",
    "    '''\n",
    "    T = (jd - 2451545) / 36525\n",
    "    Tu = jd - 2451545\n",
    "    g = 280.46061837 + 360.98564736629*(jd - 2451545.0) + 0.000387933*T**2-T**3/38710000\n",
    "    g = (g%360) / 15\n",
    "    return g"
   ]
  },
  {
   "cell_type": "markdown",
   "metadata": {},
   "source": [
    "Aby teraz obliczyć lokalny czas gwiazdowy (LST), do uzyskanego czasu GMST, dodałem długość geograficzną miejsc obserwacji, wynoszącą 21 stopni, podzieloną przez 15, uzyskując LST wyrażony w godzinach."
   ]
  },
  {
   "cell_type": "code",
   "execution_count": null,
   "metadata": {},
   "outputs": [],
   "source": [
    "lst = gmst + warsaw[1]/15  #warsaw = [52, 21]"
   ]
  },
  {
   "cell_type": "markdown",
   "metadata": {},
   "source": [
    "<br />\n",
    "<br />"
   ]
  },
  {
   "cell_type": "markdown",
   "metadata": {},
   "source": [
    "### Obliczenie kąta godzinnego"
   ]
  },
  {
   "cell_type": "markdown",
   "metadata": {},
   "source": [
    "Mając lokalny czas gwiazdowy oraz daną wcześniej rektascensję gwiazdy, mogłem przejść do obliczenia kąta godzinnego. Wykorzystałem do tego równanie: \n",
    "\n",
    "S = α<sup>∗</sup>+ t<sup>∗</sup>, <br/>\n",
    "gdzie <br/> S - czas gwiazdowy miejscowy, \n",
    "<br/>α<sup>∗</sup> - rektascensja,<br/>\n",
    "t<sup>∗</sup> - kąt godzinny"
   ]
  },
  {
   "cell_type": "markdown",
   "metadata": {},
   "source": [
    "Po przekształceniu otrzymać można było wzór na kąt godzinny: <br/>\n",
    " t<sup>∗</sup> = S - α<sup>∗</sup>\n",
    "\n",
    "\n",
    " A więc:"
   ]
  },
  {
   "cell_type": "code",
   "execution_count": null,
   "metadata": {},
   "outputs": [],
   "source": [
    "t_warsaw = lst_warsaw - alfa_h"
   ]
  },
  {
   "cell_type": "markdown",
   "metadata": {},
   "source": [
    "<br />"
   ]
  },
  {
   "cell_type": "markdown",
   "metadata": {},
   "source": [
    "### Rozwiązanie trójkąta sferycznego"
   ]
  },
  {
   "cell_type": "markdown",
   "metadata": {},
   "source": [
    "Kolejnym krokiem zbliżającym do celu zadania, było rozwiązanie trójkąta sferycznego. Aby móc obliczyć wartości wysokości oraz azymutów, należało wyrazić na jego podstawie związek między układem współrzędnych horyzontalnych a układem\n",
    "współrzędnych równikowych godzinnych. Po przekształceniach można było dojść do poniższego równania:  $ \\\\ \\sin h = \\sin \\phi \\sin \\delta + \\cos \\phi \\cos \\delta \\cos t$"
   ]
  },
  {
   "cell_type": "markdown",
   "metadata": {},
   "source": [
    "Obliczyć azymut pozwoliło kolejne równanie:\n",
    "$\\\\ tg Az = \\frac{-\\cos \\delta \\sin t}{\\cos \\phi \\sin \\delta - \\sin \\phi \\cos \\delta \\cos t}$"
   ]
  },
  {
   "cell_type": "markdown",
   "metadata": {},
   "source": [
    "Pozwoliło to na utworzenie funkcji, obliczających azymut oraz wysokość, na podstawie danej deklinacji, szerokości geograficznej oraz kątu godzinnego."
   ]
  },
  {
   "cell_type": "code",
   "execution_count": null,
   "metadata": {},
   "outputs": [],
   "source": [
    "# function to calculate height\n",
    "def calculate_h(delta_r, fi_r, t_r):\n",
    "    h = math.asin(math.sin(delta_r)*math.sin(fi_r) + math.cos(delta_r)*math.cos(fi_r)*math.cos(t_r))\n",
    "    return h\n",
    "\n",
    "# function to calculate azimuth\n",
    "def calculate_a(delta_r, fi_r, t_r):\n",
    "    a = -math.cos(delta_r)*math.sin(t_r)\n",
    "    b = math.sin(delta_r)*math.cos(fi_r) - math.cos(delta_r)*math.sin(fi_r)*math.cos(t_r)\n",
    "    az = math.atan2(a, b)\n",
    "    return az"
   ]
  },
  {
   "cell_type": "markdown",
   "metadata": {},
   "source": [
    "<br />"
   ]
  },
  {
   "cell_type": "markdown",
   "metadata": {},
   "source": [
    "### Obliczenie wysokości oraz azymutu gwiazdy - transformacja do współrzędnych równikowych horyzontalnych\n",
    "\n"
   ]
  },
  {
   "cell_type": "code",
   "execution_count": null,
   "metadata": {},
   "outputs": [],
   "source": [
    "# calculate h for warsaw\n",
    "h_warsaw_r = calculate_h(delta_r, warsaw_r, t_warsaw_r)\n",
    "\n",
    "# calculate azimuth for warsaw\n",
    "a_warsaw_r = calculate_a(delta_r, warsaw_r, t_warsaw_r)\n",
    "\n",
    "# calculate h for equator\n",
    "h_equator_r = calculate_h(delta_r, equator_r, t_equator_r)\n",
    "\n",
    "# calculate azimuth for equator\n",
    "a_equator_r = calculate_a(delta_r, equator_r, t_equator_r)"
   ]
  },
  {
   "cell_type": "markdown",
   "metadata": {},
   "source": [
    "<br />"
   ]
  },
  {
   "cell_type": "markdown",
   "metadata": {},
   "source": [
    "## Wykonanie wizualizacji i przedstawienie wyników"
   ]
  },
  {
   "cell_type": "markdown",
   "metadata": {},
   "source": [
    "Do uprzednio utworzonego szablonu wykresu z biblioteki Matplotlib, pętla przechodząca przez każdą godzinę, dodała poszczególne punkty. Operacja została powtórzona dla każdego z wykonanych wykresów: 3d sfery niebieskiej, skyplot, panoramy oraz wykresu wysokości gwiazdy w zależności od czasu. Położenie gwiazdy zostało oznaczone symbolem ✮, a poszczególne godziny - odpowiednimi etykietami."
   ]
  },
  {
   "cell_type": "markdown",
   "metadata": {},
   "source": [
    "<b><h2 style=\"text-align:center\">Warszawa</h></b>"
   ]
  },
  {
   "cell_type": "markdown",
   "metadata": {},
   "source": [
    "<div class=\"grid\" style=\"display: grid;\n",
    "            grid-template-columns: 1fr 1fr;\n",
    "            grid-gap: 10px; \">\n",
    "    <div>\n",
    "        <img src=\"wykres1warszawa.png\" alt=\"Obraz 1\">\n",
    "    </div>\n",
    "    <div>\n",
    "        <img src=\"wykres2warszawa.png\" alt=\"Obraz 2\">\n",
    "    </div>\n",
    "    <div>\n",
    "        <img src=\"wykres4warszawa.png\" alt=\"Obraz 3\">\n",
    "    </div>\n",
    "    <div>\n",
    "        <img src=\"wykres5warszawa.png\" alt=\"Obraz 4\">\n",
    "    </div>\n",
    "</div>"
   ]
  },
  {
   "cell_type": "markdown",
   "metadata": {},
   "source": [
    "## Wnioski"
   ]
  },
  {
   "cell_type": "markdown",
   "metadata": {},
   "source": [
    "Analiza wykresów dla położenia nr 1 pozwoliła dojść do poniższych wniosków:"
   ]
  },
  {
   "cell_type": "markdown",
   "metadata": {},
   "source": [
    "<li>Gwiazda nr 168 z RA FK5 wzeszła w tym miejscu 1 lipca 2023 r. krótko po godzinie 1<sup>00</sup> oraz zaszła około godziny 16<sup>00</sup></li>\n",
    "<li>Najwyżej gwiazda znajdowała się krótko przed godziną 9<sup>00</sup>. Wysokość wynosiła wtedy blisko 55 stopni.</li>\n",
    "<li>Gwiazda nie elongowała.</li>\n",
    "<li>Gwiazda nie przeszła przez I wertykał.</li>"
   ]
  },
  {
   "cell_type": "markdown",
   "metadata": {},
   "source": [
    "<hr>\n",
    "<b><h2 style=\"text-align:center\">Równik</h></b>"
   ]
  },
  {
   "cell_type": "markdown",
   "metadata": {},
   "source": [
    "<div class=\"grid\" style=\"display: grid;\n",
    "            grid-template-columns: 1fr 1fr;\n",
    "            grid-gap: 10px; \">\n",
    "    <div>\n",
    "        <img src=\"wykres1rownik.png\" alt=\"Obraz 1\">\n",
    "    </div>\n",
    "    <div>\n",
    "        <img src=\"wykres2rownik.png\" alt=\"Obraz 2\">\n",
    "    </div>\n",
    "    <div>\n",
    "        <img src=\"wykres3rownik.png\" alt=\"Obraz 3\">\n",
    "    </div>\n",
    "    <div>\n",
    "        <img src=\"wykres4rownik.png\" alt=\"Obraz 4\">\n",
    "    </div>\n",
    "</div>"
   ]
  },
  {
   "cell_type": "markdown",
   "metadata": {},
   "source": [
    "## Wnioski"
   ]
  },
  {
   "cell_type": "markdown",
   "metadata": {},
   "source": [
    "<li>Gwiazda FK5 168 w miejscu na równiku o współrzędnych φ = 0◦ oraz λ = 21◦ wzeszła 1 lipca 2023 r. około 2<sup>40</sup> oraz zaszła około godziny 14<sup>40</sup>, czyli była widoczna około 12 godzin.</li>\n",
    "<li>Najwyżej gwiazda znajdowała się krótko przed godziną 9<sup>00</sup>. Wysokość wynosiła wtedy blisko 72 stopnie.</li>\n",
    "<li>Gwiazda nie elongowała.</li>\n",
    "<li>Gwiazda nie przeszła przez I wertykał.</li>\n",
    "<li>Gwiazda przez całą dobę była widoczna jedynie po północnej stronie nieba.</li>"
   ]
  },
  {
   "cell_type": "markdown",
   "metadata": {},
   "source": [
    "## Kod źródłowy"
   ]
  },
  {
   "cell_type": "code",
   "execution_count": null,
   "metadata": {},
   "outputs": [],
   "source": [
    "import datetime\n",
    "import math\n",
    "import numpy as np\n",
    "import matplotlib.pyplot as plt\n",
    "\n",
    "def julday(y,m,d,h):\n",
    "    if m <= 2:\n",
    "        y = y - 1\n",
    "        m = m + 12\n",
    "    jd = np.floor(365.25*(y+4716))+np.floor(30.6001*(m+1))+d+h/24-1537.5;\n",
    "    return jd\n",
    "\n",
    "def GMST(jd):\n",
    "    T = (jd - 2451545) / 36525\n",
    "    Tu = jd - 2451545\n",
    "    g = 280.46061837 + 360.98564736629*(jd - 2451545.0) + 0.000387933*T**2-T**3/38710000\n",
    "    g = (g%360) / 15\n",
    "    return g\n",
    "\n",
    "def dms2rad(dms):\n",
    "    d = dms[0]\n",
    "    m = dms[1]\n",
    "    s = dms[2]\n",
    "    \n",
    "    deg = d+m/60+s/3600\n",
    "    rad = np.deg2rad(deg)\n",
    "    return rad\n",
    "\n",
    "def hms2rad(dms):\n",
    "    d = dms[0]\n",
    "    m = dms[1]\n",
    "    s = dms[2]\n",
    "    \n",
    "    deg = d+m/60+s/3600\n",
    "    rad = np.deg2rad(deg*15)\n",
    "    return rad\n",
    "\n",
    "def hms2h(dms):\n",
    "    return dms[0] + dms[1]/60 + dms[2]/3600\n",
    "\n",
    "def calculate_h(delta_r, fi_r, t_r):\n",
    "    h = math.asin(math.sin(delta_r)*math.sin(fi_r) + math.cos(delta_r)*math.cos(fi_r)*math.cos(t_r))\n",
    "    return h\n",
    "\n",
    "def calculate_a(delta_r, fi_r, t_r):\n",
    "    a = -math.cos(delta_r)*math.sin(t_r)\n",
    "    b = math.sin(delta_r)*math.cos(fi_r) - math.cos(delta_r)*math.sin(fi_r)*math.cos(t_r)\n",
    "    az = math.atan2(a, b)\n",
    "    return az\n",
    "\n",
    "def add_point(a, h, r, ax):\n",
    "    x = r * np.sin(a) * np.cos(h)\n",
    "    y = r * np.cos(a) * np.cos(h)\n",
    "    z = r * np.sin(h)\n",
    "\n",
    "    ax.scatter(x, y, z, marker='*', color=\"orange\")\n",
    "    ax.text(x, y, z, hr)\n",
    "\n",
    "# right ascension\n",
    "alfa = [4, 37, 16.316]\n",
    "alfa_h = hms2h(alfa)\n",
    "alfa_r = hms2rad(alfa)\n",
    "\n",
    "# declination\n",
    "delta = [16, 33, 16.570]\n",
    "delta_r = dms2rad(delta)\n",
    "\n",
    "# warsaw coordinates\n",
    "warsaw = [52, 21]\n",
    "warsaw_r = math.radians(warsaw[0])\n",
    "\n",
    "# equator coordinates\n",
    "equator = [0, 21]\n",
    "equator_r = math.radians(equator[0])\n",
    "\n",
    "#WYKRES 3D\n",
    "fig = plt.figure(figsize = (10,10))\n",
    "ax = fig.add_subplot(projection = '3d')\n",
    "r = 1\n",
    "u, v = np.mgrid[0:(2 * np.pi+0.1):0.1, 0:np.pi:0.1]\n",
    "x = np.cos(u) * np.sin(v)\n",
    "y = np.sin(u) * np.sin(v)\n",
    "z = np.cos(v)\n",
    "z[z<0] = 0\n",
    "ax.plot_surface(x,y,z, alpha = 0.1)\n",
    "ax.set_xlabel('X')\n",
    "ax.set_ylabel('Y')\n",
    "ax.set_zlabel('Z')\n",
    "ax.set_title('wykres 3D sfery niebieskiej - FK5 168', pad = 30, fontsize = 15)\n",
    "ax.grid(color = 'grey', linestyle = '-', linewidth = 0.25, alpha = 0.8)\n",
    "\n",
    "# WYKRES SKYPLOT\n",
    "# fig = plt.figure(figsize = (8,8))\n",
    "# ax = fig.add_subplot(polar = True)\n",
    "# ax.set_theta_zero_location('N')\n",
    "# ax.set_theta_direction(-1)\n",
    "# ax.set_yticks(range(0, 90+10, 10))\n",
    "# yLabel = ['90', '', '', '60', '', '', '30', '', '', '']\n",
    "# ax.set_yticklabels(yLabel)\n",
    "# ax.set_rlim(0,90)\n",
    "# ax.set_title('wykres skyplot - FK5 168', pad = 30, fontsize = 15)\n",
    "\n",
    "#WYKRES ZALEZNOSCI WYSOKOSCI OD CZASU\n",
    "# fig = plt.figure(figsize = (8,8))\n",
    "# ax = fig.add_subplot()\n",
    "# ax.set_xlabel('godzina')\n",
    "# ax.set_ylabel('wysokość [deg]')\n",
    "# ax.set_ylim(-90,90)\n",
    "# ax.set_xlim(0,24)\n",
    "# ax.axhline(0, linestyle = '-.', color = 'black')\n",
    "# ax.set_title('wykres wysokości gwiazdy FK5 168 w zależności od czasu- 1 lipca 2023', pad = 30, fontsize = 15)\n",
    "# ax.grid(color = 'grey', linestyle = '-', linewidth = 0.25, alpha = 0.5)\n",
    "\n",
    "\n",
    "# WYKRES PANORAMA\n",
    "# fig = plt.figure(figsize = (8,8))\n",
    "# ax = fig.add_subplot()\n",
    "# ax.set_xlabel('azymut [deg]')\n",
    "# ax.set_ylabel('wysokość [deg]')\n",
    "# ax.set_ylim(0,90)\n",
    "# ax.set_xlim(-180,180)\n",
    "# ax.set_title('wykres panorama FK5 168', pad = 30, fontsize = 15)\n",
    "# ax.grid(color = 'grey', linestyle = '-', linewidth = 0.25, alpha = 0.5)\n",
    "\n",
    "for hr in range(2,26):\n",
    "    if hr >= 24:\n",
    "        hr = hr - 24\n",
    "        gd = datetime.datetime(2023, 7, 2, hr)\n",
    "    else:\n",
    "        gd = datetime.datetime(2023, 7, 1, hr)\n",
    "    # julian date\n",
    "    jd = julday(gd.year, gd.month, gd.day, gd.hour)\n",
    "    # greenwich mean sidereal time\n",
    "    gmst = GMST(jd)\n",
    "\n",
    "    # local sidereal time\n",
    "    lst_warsaw = gmst + warsaw[1]/15\n",
    "\n",
    "    # hour angle\n",
    "    t_warsaw = lst_warsaw - alfa_h\n",
    "    t_warsaw_r = math.radians(t_warsaw * 15) \n",
    "    t_equator_r = t_warsaw_r\n",
    "    \n",
    "\n",
    "    # calculate h and a for warsaw\n",
    "    h_warsaw_r = calculate_h(delta_r, warsaw_r, t_warsaw_r)\n",
    "    a_warsaw_r = calculate_a(delta_r, warsaw_r, t_warsaw_r)\n",
    "\n",
    "    # calculate h and a for equator\n",
    "    h_equator_r = calculate_h(delta_r, equator_r, t_equator_r)\n",
    "    a_equator_r = calculate_a(delta_r, equator_r, t_equator_r)\n",
    "\n",
    "# adding points to SPHERE\n",
    "    add_point(a_equator_r, h_equator_r, r, ax)\n",
    "    # add_point(a_warsaw_r, h_warsaw_r, r, ax)\n",
    "\n",
    "# adding points to SKYPLOT\n",
    "    # if (np.rad2deg(h_warsaw_r) >= 0):\n",
    "    #     ax.scatter(a_warsaw_r, 90-np.rad2deg(h_warsaw_r), marker = \"*\", color = 'orange', s = 50)\n",
    "    #     ax.text(a_warsaw_r, 90-np.rad2deg(h_warsaw_r), hr, color = 'black')\n",
    "    #     \n",
    "    # if (np.rad2deg(h_equator_r) >= 0):\n",
    "    #     ax.scatter(a_equator_r, 90-np.rad2deg(h_equator_r), marker = '*', color = 'orange')\n",
    "    #     ax.text(a_equator_r, 90-np.rad2deg(h_equator_r), hr)\n",
    "\n",
    "# adding points to WYKRES ZALEZNOSCI WYSOKOSCI OD CZASU\n",
    "    # ax.scatter(hr, np.rad2deg(h_warsaw_r), marker = \"*\", color = 'orange')\n",
    "    # ax.text(hr, np.rad2deg(h_warsaw_r), hr)\n",
    "\n",
    "    # ax.scatter(hr, np.rad2deg(h_equator_r), marker = '*', color = 'orange')\n",
    "    # ax.text(hr, np.rad2deg(h_equator_r), hr)\n",
    "\n",
    "# adding points to PANORAMA\n",
    "    # if (np.rad2deg(h_warsaw_r) >= 0):\n",
    "    #     ax.scatter(np.rad2deg(a_warsaw_r), np.rad2deg(h_warsaw_r), marker = \"*\", color = 'orange')\n",
    "    #     ax.text(np.rad2deg(a_warsaw_r), np.rad2deg(h_warsaw_r), hr)\n",
    "\n",
    "    # if (np.rad2deg(h_equator_r) >= 0):\n",
    "    #     ax.scatter(np.rad2deg(a_equator_r), np.rad2deg(h_equator_r), marker = '*', color = 'orange')\n",
    "    #     ax.text(np.rad2deg(a_equator_r), np.rad2deg(h_equator_r), hr)\n",
    "\n",
    "# plt.show()\n",
    "\n"
   ]
  }
 ],
 "metadata": {
  "kernelspec": {
   "display_name": "Python 3",
   "language": "python",
   "name": "python3"
  },
  "language_info": {
   "codemirror_mode": {
    "name": "ipython",
    "version": 3
   },
   "file_extension": ".py",
   "mimetype": "text/x-python",
   "name": "python",
   "nbconvert_exporter": "python",
   "pygments_lexer": "ipython3",
   "version": "3.11.3"
  }
 },
 "nbformat": 4,
 "nbformat_minor": 2
}
