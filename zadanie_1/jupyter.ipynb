{
 "cells": [
  {
   "cell_type": "markdown",
   "metadata": {},
   "source": [
    "# Zadanie 1"
   ]
  },
  {
   "cell_type": "markdown",
   "metadata": {},
   "source": [
    "Adrian Fabisiewicz <br> <br>\n",
    "Nr indeksu: 328935"
   ]
  },
  {
   "cell_type": "markdown",
   "metadata": {},
   "source": [
    "## Cel ćwiczenia\n",
    "Zadanie polegało na wyznaczeniu położenia danej gwiazdy w układzie współrzędnych horyzontalnych, dla dwóch miejsc na Ziemi. Pierwsze miejsce znajduje się niedaleko Warszawy, jego przyjętą szerokością geograficzną było 52 stopnie, a długością - 21 stopni. Drugim rozpatrywanym miejscem był równik, miejsce o tej samej długości geograficznej, co pierwszy punkt. Obliczenia zostały wykonane dla całej doby, w godzinnych interwałach. Pierwsze wyliczone położenie gwiazdy miało miejsce 1 lipca 2023 roku o godzinie 02:00, a ostatnie - 2 lipca 2023 roku o godzinie 01:00. Wszystkie wyliczone położenia zwizualizowano na wykresach w sprawozdaniu.  "
   ]
  },
  {
   "cell_type": "markdown",
   "metadata": {},
   "source": [
    "## Dane do zadania"
   ]
  },
  {
   "cell_type": "markdown",
   "metadata": {},
   "source": [
    "Rozpatrywaną gwiazdą była gwiazda nr 168 z RA FK5, której współrzędne w układzie równikowym ekwinokcjalnym, na epokę 2023.5, wynosiły:\n",
    "<li>α: 4<sup>h</sup> 37<sup>m</sup> 16.316<sup>s</sup></li>\n",
    "<li>δ: 16° 33<sup>m</sup> 16.570<sup>s</sup></li>"
   ]
  },
  {
   "cell_type": "markdown",
   "metadata": {},
   "source": [
    "## Kolejność wykonywania ćwiczeń"
   ]
  },
  {
   "cell_type": "markdown",
   "metadata": {},
   "source": [
    "### Uwzględnienie strefy czasowej"
   ]
  },
  {
   "cell_type": "markdown",
   "metadata": {},
   "source": [
    "Na początku należało zauważyć strefy czasowe punktów, biorąc pod uwagę, że znajdują się one w strefie UTC+2. W wyniku tego, w obliczeniach został uwzględniony okres od 1 lipca 2023, od godziny 2<sup>00</sup> do 2 lipca 2023, godziny 2<sup>00</sup> czasu UTC. Dzięki temu zabiegowi uzyskano położenia gwiazdy dla całej doby 1 lipca, od godziny 0 do 24, już w czasie UTC+2."
   ]
  },
  {
   "cell_type": "markdown",
   "metadata": {},
   "source": [
    "<br />"
   ]
  },
  {
   "cell_type": "markdown",
   "metadata": {},
   "source": [
    "### Obliczenie lokalnego czasu gwiazdowego"
   ]
  },
  {
   "cell_type": "markdown",
   "metadata": {},
   "source": [
    "Kolejnym krokiem było obliczenie lokalnego czasu gwiazdowego dla wybranych miejsc. Aby to zrobić, najpierw należało zapisać interesującą nas datę, używając kalendarza juliańskiego. Zastosowanie daty juliańskiej w obliczeniach astronomicznych między innymi pozwoliło na uniknięcie problemu przy zmianie kalendarza z juliańskiego na gregoriański czy zapewniło możliwość dokładnego obliczania odstępu w czasie od wydarzeń, które miały miejsce dawno w przeszłości. Do konwersji użyto uproszczoną wersję algorytmu, dostarczoną wraz z zadaniem, która pozwala na wykonanie poprawnych obliczeń w przedziale od 1 Marca 1900 do 28 lutego 2100. Wykorzystano przy tym poniższą funkcję <i>julday<i>."
   ]
  },
  {
   "cell_type": "code",
   "execution_count": null,
   "metadata": {},
   "outputs": [],
   "source": [
    "def julday(y,m,d,h):\n",
    "    '''\n",
    "    Simplified Julian Date generator, valid only between\n",
    "    1 March 1900 to 28 February 2100\n",
    "    '''\n",
    "    if m <= 2:\n",
    "        y = y - 1\n",
    "        m = m + 12\n",
    "    \n",
    "    jd = np.floor(365.25*(y+4716))+np.floor(30.6001*(m+1))+d+h/24-1537.5\n",
    "    return jd"
   ]
  },
  {
   "cell_type": "markdown",
   "metadata": {},
   "source": [
    "Następnie, na podstawie otrzymanej daty juliańskiej, można było obliczyć czas średni gwiazdowy Greenwich (GMST). Aby to zrobić, skorzystałem z dostarczonej funkcji <i>GMST</i>, do której jako argument wstawiliśmy datę juliańską. Funkcja zwróciła czas średni gwiazdowy Greenwich, w godzinach."
   ]
  },
  {
   "cell_type": "code",
   "execution_count": null,
   "metadata": {},
   "outputs": [],
   "source": [
    "def GMST(jd):\n",
    "    '''\n",
    "    calculation of Greenwich Mean Sidereal Time - GMST in hours\n",
    "    ----------\n",
    "    jd : TYPE\n",
    "        julian date\n",
    "    '''\n",
    "    T = (jd - 2451545) / 36525\n",
    "    Tu = jd - 2451545\n",
    "    g = 280.46061837 + 360.98564736629*(jd - 2451545.0) + 0.000387933*T**2-T**3/38710000\n",
    "    g = (g%360) / 15\n",
    "    return g"
   ]
  },
  {
   "cell_type": "markdown",
   "metadata": {},
   "source": [
    "Aby teraz obliczyć lokalny czas gwiazdowy (LST), do uzyskanego czasu GMST, dodałem długość geograficzną miejsc obserwacji, wynoszącą 21 stopni, podzieloną przez 15, uzyskując LST wyrażony w godzinach."
   ]
  },
  {
   "cell_type": "code",
   "execution_count": null,
   "metadata": {},
   "outputs": [],
   "source": [
    "lst = gmst + warsaw[1]/15  #warsaw = [52, 21]"
   ]
  },
  {
   "cell_type": "markdown",
   "metadata": {},
   "source": [
    "<br />"
   ]
  },
  {
   "cell_type": "markdown",
   "metadata": {},
   "source": [
    "### Obliczenie kąta godzinnego"
   ]
  },
  {
   "cell_type": "markdown",
   "metadata": {},
   "source": [
    "Mając lokalny czas gwiazdowy oraz daną wcześniej rektascenzję gwiazdy, mogłem przejść do obliczenia kąta godzinnego. Wykorzystałem do tego równanie: \n",
    "\n",
    "S = α<sup>∗</sup>+ t<sup>∗</sup>, <br/>\n",
    "gdzie <br/> S - czas gwiazdowy miejscowy, \n",
    "<br/>α<sup>∗</sup> - rektascensja,<br/>\n",
    "t<sup>∗</sup> - kąt godzinny"
   ]
  },
  {
   "cell_type": "markdown",
   "metadata": {},
   "source": [
    "Po przekształceniu otrzymujemy wzór na kąt godzinny: <br/>\n",
    " t<sup>∗</sup> = S - α<sup>∗</sup>\n",
    "\n",
    "\n",
    " A więc:"
   ]
  },
  {
   "cell_type": "code",
   "execution_count": null,
   "metadata": {},
   "outputs": [],
   "source": [
    "t_warsaw = lst_warsaw - alfa_h"
   ]
  },
  {
   "cell_type": "markdown",
   "metadata": {},
   "source": [
    "<br />"
   ]
  },
  {
   "cell_type": "markdown",
   "metadata": {},
   "source": [
    "### Rozwiązanie trójkąta sferycznego"
   ]
  },
  {
   "cell_type": "markdown",
   "metadata": {},
   "source": [
    "Kolejnym krokiem zbliżającym do celu zadania, było rozwiązanie trójkąta sferycznego. Aby móc obliczyć wartości wysokości oraz azymutów, należało wyrazić na jego podstawie związku między układem współrzędnych horyzontalnych a układem\n",
    "współrzędnych równikowych godzinnych. Po przekształceniach uzyskaliśmy wzór na wartość <i>h</i>:  $ \\\\ \\sin h = \\sin \\phi \\sin \\delta + \\cos \\phi \\cos \\delta \\cos t$"
   ]
  },
  {
   "cell_type": "markdown",
   "metadata": {},
   "source": [
    "Azymut obliczyłem ze wzoru:\n",
    "$\\\\ \\tg Az = \\frac{-\\cos \\delta \\sin t}{\\cos \\phi \\sin \\delta - \\sin \\phi \\cos \\delta \\cos t}$"
   ]
  },
  {
   "cell_type": "markdown",
   "metadata": {},
   "source": [
    "Pozwoliło mi to na utworzenie funkcji, obliczających azymut oraz wysokość, na podstawie danej deklinacji, szerokości geograficznej oraz kątu godzinnego."
   ]
  },
  {
   "cell_type": "code",
   "execution_count": null,
   "metadata": {},
   "outputs": [],
   "source": [
    "# function to calculate height\n",
    "def calculate_h(delta_r, fi_r, t_r):\n",
    "    h = math.asin(math.sin(delta_r)*math.sin(fi_r) + math.cos(delta_r)*math.cos(fi_r)*math.cos(t_r))\n",
    "    return h\n",
    "\n",
    "# function to calculate azimuth\n",
    "def calculate_a(delta_r, fi_r, t_r):\n",
    "    a = -math.cos(delta_r)*math.sin(t_r)\n",
    "    b = math.sin(delta_r)*math.cos(fi_r) - math.cos(delta_r)*math.sin(fi_r)*math.cos(t_r)\n",
    "    az = math.atan2(a, b)\n",
    "    return az"
   ]
  },
  {
   "cell_type": "markdown",
   "metadata": {},
   "source": [
    "<br />"
   ]
  },
  {
   "cell_type": "markdown",
   "metadata": {},
   "source": [
    "### Obliczenie wysokości oraz azymutu gwiazdy - transformacja do współrzędnych równikowych horyzontalnych\n",
    "\n"
   ]
  },
  {
   "cell_type": "code",
   "execution_count": null,
   "metadata": {},
   "outputs": [],
   "source": [
    "# calculate h for warsaw (in degrees)\n",
    "h_warsaw_r = calculate_h(delta_r, warsaw_r, t_warsaw_r)\n",
    "\n",
    "# calculate azimuth for warsaw (in degrees)\n",
    "a_warsaw_r = calculate_a(delta_r, warsaw_r, t_warsaw_r)\n",
    "\n",
    "# calculate azimuth for equator (in degrees)\n",
    "a_equator_r = calculate_a(delta_r, equator_r, t_equator_r)\n",
    "\n",
    "# calculate h for equator (in degrees)\n",
    "h_equator_r = calculate_h(delta_r, equator_r, t_equator_r)"
   ]
  },
  {
   "cell_type": "markdown",
   "metadata": {},
   "source": [
    "<br />"
   ]
  },
  {
   "cell_type": "markdown",
   "metadata": {},
   "source": [
    "## Wykonanie wizualizacji i przedstawienie wyników"
   ]
  },
  {
   "cell_type": "markdown",
   "metadata": {},
   "source": [
    "<b><h2 style=\"text-align:center\">Warszawa</h></b>"
   ]
  },
  {
   "cell_type": "markdown",
   "metadata": {},
   "source": [
    "<div class=\"grid\" style=\"display: grid;\n",
    "            grid-template-columns: 1fr 1fr;\n",
    "            grid-gap: 10px; \">\n",
    "    <div>\n",
    "        <img src=\"wykres1warszawa.png\" alt=\"Obraz 1\">\n",
    "    </div>\n",
    "    <div>\n",
    "        <img src=\"wykres2warszawa.png\" alt=\"Obraz 2\">\n",
    "    </div>\n",
    "    <div>\n",
    "        <img src=\"wykres4warszawa.png\" alt=\"Obraz 3\">\n",
    "    </div>\n",
    "    <div>\n",
    "        <img src=\"wykres5warszawa.png\" alt=\"Obraz 4\">\n",
    "    </div>\n",
    "</div>"
   ]
  },
  {
   "cell_type": "markdown",
   "metadata": {},
   "source": [
    "## Wnioski"
   ]
  },
  {
   "cell_type": "markdown",
   "metadata": {},
   "source": [
    "<li>Gwiazda FK5 168 w miejscu w pobliżu Warszawy o współrzędnych φ = 52◦ oraz λ = 21◦ wzeszła 1 lipca 2023 r. krótko po godzinie 1<sup>00</sup> oraz zaszła około godziny 16<sup>00</sup></li>\n",
    "<li>Najwyżej gwiazda znajdowała się krótko przed godziną 9<sup>00</sup>. Wysokość wynosiła wtedy blisko 55 stopni.</li>\n",
    "<li>Gwiazda nie elonguje.</li>\n",
    "<li>Gwiazda przechodzi przez I wertykał.</li>"
   ]
  },
  {
   "cell_type": "markdown",
   "metadata": {},
   "source": [
    "<hr>\n",
    "<b><h2 style=\"text-align:center\">Równik</h></b>"
   ]
  },
  {
   "cell_type": "markdown",
   "metadata": {},
   "source": [
    "<div class=\"grid\" style=\"display: grid;\n",
    "            grid-template-columns: 1fr 1fr;\n",
    "            grid-gap: 10px; \">\n",
    "    <div>\n",
    "        <img src=\"wykres1rownik.png\" alt=\"Obraz 1\">\n",
    "    </div>\n",
    "    <div>\n",
    "        <img src=\"wykres2rownik.png\" alt=\"Obraz 2\">\n",
    "    </div>\n",
    "    <div>\n",
    "        <img src=\"wykres3rownik.png\" alt=\"Obraz 3\">\n",
    "    </div>\n",
    "    <div>\n",
    "        <img src=\"wykres4rownik.png\" alt=\"Obraz 4\">\n",
    "    </div>\n",
    "</div>"
   ]
  },
  {
   "cell_type": "markdown",
   "metadata": {},
   "source": [
    "## Wnioski"
   ]
  },
  {
   "cell_type": "markdown",
   "metadata": {},
   "source": [
    "<li>Gwiazda FK5 168 w miejscu na równiku o współrzędnych φ = 0◦ oraz λ = 21◦ wzeszła 1 lipca 2023 r. około 2<sup>40</sup> oraz zaszła około godziny 14<sup>40</sup></li>\n",
    "<li>Najwyżej gwiazda znajdowała się krótko przed godziną 9<sup>00</sup>. Wysokość wynosiła wtedy blisko 72 stopnie.</li>\n",
    "<li>Gwiazda nie elonguje.</li>\n",
    "<li>Gwiazda nie przechodzi przez I wertykał.</li>\n",
    "<li>Gwiazda przez całą dobę była widoczna jedynie po północnej stronie nieba</li>"
   ]
  }
 ],
 "metadata": {
  "kernelspec": {
   "display_name": "Python 3",
   "language": "python",
   "name": "python3"
  },
  "language_info": {
   "codemirror_mode": {
    "name": "ipython",
    "version": 3
   },
   "file_extension": ".py",
   "mimetype": "text/x-python",
   "name": "python",
   "nbconvert_exporter": "python",
   "pygments_lexer": "ipython3",
   "version": "3.11.3"
  }
 },
 "nbformat": 4,
 "nbformat_minor": 2
}
