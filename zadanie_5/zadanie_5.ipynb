{
 "cells": [
  {
   "cell_type": "code",
   "execution_count": 23,
   "metadata": {},
   "outputs": [],
   "source": [
    "import numpy as np\n",
    "from funkcje import gpx2df, read_route_df, flh2xyz, zmniejszenieSiatki, interpolacja\n",
    "import plotly.graph_objects as go\n",
    "import plotly.io as pio"
   ]
  },
  {
   "cell_type": "code",
   "execution_count": 24,
   "metadata": {},
   "outputs": [
    {
     "name": "stdout",
     "output_type": "stream",
     "text": [
      "file saved to obwodnica-rowerowa-po-narwianskim-parku-narodowym.csv\n"
     ]
    }
   ],
   "source": [
    "szlak = 'obwodnica-rowerowa-po-narwianskim-parku-narodowym'\n",
    "\n",
    "plik = f'{szlak}.gpx'\n",
    "gpx2df(plik, f'{szlak}.csv')\n",
    "df = read_route_df(f'{szlak}.csv')"
   ]
  },
  {
   "cell_type": "code",
   "execution_count": 25,
   "metadata": {},
   "outputs": [],
   "source": [
    "pio.renderers.default = 'browser'\n",
    "\n",
    "fig = go.Figure(data=go.Scattermapbox(lat = df['latitude'],\n",
    "    lon=df['longitude'], mode='lines'))\n",
    "fig.update_layout(mapbox_style='open-street-map')\n",
    "fig.update_layout(mapbox_center_lon=22.859, mapbox_center_lat=53.073)\n",
    "fig.update_layout(mapbox_zoom=9)\n",
    "fig.show()"
   ]
  },
  {
   "cell_type": "code",
   "execution_count": 26,
   "metadata": {},
   "outputs": [],
   "source": [
    "phis = df['latitude']\n",
    "lams = df['longitude']\n",
    "\n",
    "dists = []\n",
    "\n",
    "for i, _ in enumerate(phis):\n",
    "    if i < len(phis)-1:\n",
    "        phi1 = phis[i]\n",
    "        lam1 = lams[i]\n",
    "        phi2 = phis[i+1]\n",
    "        lam2 = lams[i+1]\n",
    "        \n",
    "        xyz1 = flh2xyz(np.deg2rad(phi1), np.deg2rad(lam1), 200)\n",
    "        xyz2 = flh2xyz(np.deg2rad(phi2), np.deg2rad(lam2), 200)\n",
    "        dxyz = np.array(xyz2) - np.array(xyz1)\n",
    "        \n",
    "        d = np.linalg.norm(dxyz)\n",
    "        dists.append(d)\n",
    "\n",
    "dists.append(np.nan)\n",
    "\n",
    "df['dists'] = dists\n",
    "df['distance'] = df['dists'].cumsum()"
   ]
  },
  {
   "cell_type": "code",
   "execution_count": 27,
   "metadata": {},
   "outputs": [],
   "source": [
    "model = np.genfromtxt('2011-KRON86-NH.txt')\n",
    "model2 = zmniejszenieSiatki(model, phis, lams)\n",
    "\n",
    "dzety = []\n",
    "\n",
    "for phi, lam in zip(phis, lams):\n",
    "    dzeta = interpolacja(model2, phi, lam)\n",
    "    dzety.append(dzeta)\n",
    "\n",
    "df['hel'] = df['elevation'] + np.array(dzety)"
   ]
  },
  {
   "cell_type": "code",
   "execution_count": 28,
   "metadata": {},
   "outputs": [],
   "source": [
    "dzety = []\n",
    "\n",
    "model = np.genfromtxt('2021-EVRF2007-NH.txt')\n",
    "model2 = zmniejszenieSiatki(model, phis, lams)\n",
    "\n",
    "for phi, lam in zip(phis, lams):\n",
    "    dzeta = interpolacja(model2, phi, lam)\n",
    "    dzety.append(dzeta)\n",
    "\n",
    "df['HN'] = df['hel'] - np.array(dzety)"
   ]
  },
  {
   "cell_type": "code",
   "execution_count": 29,
   "metadata": {},
   "outputs": [],
   "source": [
    "# obliczenie różnic wysokości normalnych między kronsztadem a amsterdamem\n",
    "df['HN_diff'] = df['HN'] - df['elevation']\n",
    "\n",
    "fig = go.Figure(data=go.Scatter(x=df['distance']/1000, y=df['HN_diff'], mode='lines'))\n",
    "fig.update_layout(title='Różnica wysokości normalnych między kronsztadem (2011-KRON86-NH) a amsterdamem(2021-EVRF2007-NH)',\n",
    "                  xaxis_title='Dystans [km]',\n",
    "                  yaxis_title='Różnica wysokości normalnych [m]')\n",
    "fig.show()"
   ]
  },
  {
   "cell_type": "code",
   "execution_count": 30,
   "metadata": {},
   "outputs": [],
   "source": [
    "#profil trasy - wysokość elipsoidalna\n",
    "fig = go.Figure(data=go.Scatter(x=df['distance']/1000, y=df['hel'], mode='lines'))\n",
    "fig.update_layout(title='Profil trasy - wysokość elipsoidalna',\n",
    "                  xaxis_title='Dystans [km]',\n",
    "                  yaxis_title='Wysokość elipsoidalna [m]')\n",
    "fig.show()"
   ]
  },
  {
   "cell_type": "code",
   "execution_count": 31,
   "metadata": {},
   "outputs": [],
   "source": [
    "#profil trasy - 2021-EVRF2007-NH\n",
    "fig = go.Figure(data=go.Scatter(x=df['distance']/1000, y=df['HN'], mode='lines'))\n",
    "fig.update_layout(title='Profil trasy - 2021-EVRF2007-NH',\n",
    "                  xaxis_title='Dystans [km]',\n",
    "                  yaxis_title='Wysokość normalna [m]')\n",
    "fig.show()\n"
   ]
  },
  {
   "cell_type": "code",
   "execution_count": 32,
   "metadata": {},
   "outputs": [],
   "source": [
    "# profil trasy - 2011-KRON86-NH\n",
    "fig = go.Figure(data=go.Scatter(x=df['distance']/1000, y=df['elevation'], mode='lines'))\n",
    "fig.update_layout(title='Profil trasy - 2011-KRON86-NH',\n",
    "                  xaxis_title='Dystans [km]',\n",
    "                  yaxis_title='Wysokość normalna [m]')\n",
    "fig.show()"
   ]
  }
 ],
 "metadata": {
  "kernelspec": {
   "display_name": ".venv",
   "language": "python",
   "name": "python3"
  },
  "language_info": {
   "codemirror_mode": {
    "name": "ipython",
    "version": 3
   },
   "file_extension": ".py",
   "mimetype": "text/x-python",
   "name": "python",
   "nbconvert_exporter": "python",
   "pygments_lexer": "ipython3",
   "version": "3.11.3"
  }
 },
 "nbformat": 4,
 "nbformat_minor": 2
}
